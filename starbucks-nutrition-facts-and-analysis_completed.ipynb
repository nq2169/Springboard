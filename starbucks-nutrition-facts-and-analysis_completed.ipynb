{
 "cells": [
  {
   "cell_type": "markdown",
   "metadata": {
    "papermill": {
     "duration": 0.043367,
     "end_time": "2021-01-05T15:24:28.476009",
     "exception": false,
     "start_time": "2021-01-05T15:24:28.432642",
     "status": "completed"
    },
    "tags": []
   },
   "source": [
    "# Starbucks - Nutrition Facts and Analysis"
   ]
  },
  {
   "cell_type": "markdown",
   "metadata": {
    "papermill": {
     "duration": 0.045645,
     "end_time": "2021-01-05T15:24:28.564190",
     "exception": false,
     "start_time": "2021-01-05T15:24:28.518545",
     "status": "completed"
    },
    "tags": []
   },
   "source": [
    "# **Introduction**\n",
    "\n",
    "## Starbucks \n",
    "Starbucks coffee shop first opened its doors in Seattle, WA by three students on March 30, 1971 and it has become the biggest coffee chain in the world. Starbucks has over 31,000 stores, includig Starbucks Reserve stores and pickup-only stores. It seems like there is Starbucks on almost every corner in every town (especially in the big cities). Starbucks has variety of drinks menu including signature drinks and seasonal drinks during fall and winter season. Customers can also create customized drinks by adding more espresso shots, syrups, milks, etc. Since I really like drinking coffee, I though it would really interesting to see and anaylse nutrition facts in aech Starbucks drinks from the dataset.   \n",
    "\n",
    "\n",
    "## Breakdown of this notebook:\n",
    "1. **Importing Libraries**\n",
    "2. **Loading the Dataset**\n",
    "    * Load data into a Pandas DataFrame\n",
    "    * Print the Datatypes of the dataset\n",
    "    * Remove the duplicates if any\n",
    "    * Print column names\n",
    "3. **Data Cleaning**\n",
    "    * Check for the null values in each column \n",
    "4. **Questions and Data Visualizations:**\n",
    "    * Plot Beverage_category \n",
    "    * Q1. Which Starbucks drink has the highest calories from the dataset? \n",
    "    * Q2. Which drink has the highest calories from the Starbucks classic espresso drinks?\n",
    "    * Q3. Signature Espresso Drinks vs TazoÂ® Tea Drinks calories\n",
    "    * Q4. Plot Historgram\n",
    "    * Q5. Get Correlation between different variables\n",
    "        * Calories vs Sugars\n",
    "        * Caloreis vs Total Carbohydrates\n",
    "        * Calories vs Total Fat\n",
    "    * Q6. Map of Correlation betweeen Different Variables\n",
    "5. **Conclusion**\n",
    "\n",
    "### Aknowledgements:\n",
    "\n",
    "This public dataset is part of Starbucks, and the original source can be found on this [website](https://www.kaggle.com/starbucks/starbucks-menu)."
   ]
  },
  {
   "cell_type": "markdown",
   "metadata": {
    "papermill": {
     "duration": 0.033693,
     "end_time": "2021-01-05T15:24:28.719157",
     "exception": false,
     "start_time": "2021-01-05T15:24:28.685464",
     "status": "completed"
    },
    "tags": []
   },
   "source": [
    "# 1. Importing Libraries"
   ]
  },
  {
   "cell_type": "code",
   "execution_count": 2,
   "metadata": {
    "_cell_guid": "b1076dfc-b9ad-4769-8c92-a6c4dae69d19",
    "_uuid": "8f2839f25d086af736a60e9eeb907d3b93b6e0e5",
    "execution": {
     "iopub.execute_input": "2021-01-05T15:24:28.819024Z",
     "iopub.status.busy": "2021-01-05T15:24:28.818369Z",
     "iopub.status.idle": "2021-01-05T15:24:30.435894Z",
     "shell.execute_reply": "2021-01-05T15:24:30.436459Z"
    },
    "papermill": {
     "duration": 1.675065,
     "end_time": "2021-01-05T15:24:30.436640",
     "exception": false,
     "start_time": "2021-01-05T15:24:28.761575",
     "status": "completed"
    },
    "tags": []
   },
   "outputs": [],
   "source": [
    "%matplotlib inline\n",
    "import numpy as np # linear algebra\n",
    "import pandas as pd # data processing\n",
    "from scipy import stats\n",
    "import matplotlib.pyplot as plt\n",
    "import seaborn as sns\n",
    "\n",
    "# Suppress deprecation and incorrect usage warnings \n",
    "import warnings\n",
    "warnings.filterwarnings('ignore')"
   ]
  },
  {
   "cell_type": "markdown",
   "metadata": {
    "papermill": {
     "duration": 0.043527,
     "end_time": "2021-01-05T15:24:30.523517",
     "exception": false,
     "start_time": "2021-01-05T15:24:30.479990",
     "status": "completed"
    },
    "tags": []
   },
   "source": [
    "# 2. Loading the Dataset"
   ]
  },
  {
   "cell_type": "markdown",
   "metadata": {
    "papermill": {
     "duration": 0.051499,
     "end_time": "2021-01-05T15:24:30.621555",
     "exception": false,
     "start_time": "2021-01-05T15:24:30.570056",
     "status": "completed"
    },
    "tags": []
   },
   "source": [
    "### * Load data into a Pandas DataFrame"
   ]
  },
  {
   "cell_type": "code",
   "execution_count": 3,
   "metadata": {
    "execution": {
     "iopub.execute_input": "2021-01-05T15:24:30.712296Z",
     "iopub.status.busy": "2021-01-05T15:24:30.711148Z",
     "iopub.status.idle": "2021-01-05T15:24:30.793245Z",
     "shell.execute_reply": "2021-01-05T15:24:30.792403Z"
    },
    "papermill": {
     "duration": 0.128003,
     "end_time": "2021-01-05T15:24:30.793372",
     "exception": false,
     "start_time": "2021-01-05T15:24:30.665369",
     "status": "completed"
    },
    "tags": []
   },
   "outputs": [
    {
     "data": {
      "text/html": [
       "<div>\n",
       "<style scoped>\n",
       "    .dataframe tbody tr th:only-of-type {\n",
       "        vertical-align: middle;\n",
       "    }\n",
       "\n",
       "    .dataframe tbody tr th {\n",
       "        vertical-align: top;\n",
       "    }\n",
       "\n",
       "    .dataframe thead th {\n",
       "        text-align: right;\n",
       "    }\n",
       "</style>\n",
       "<table border=\"1\" class=\"dataframe\">\n",
       "  <thead>\n",
       "    <tr style=\"text-align: right;\">\n",
       "      <th></th>\n",
       "      <th>Beverage_category</th>\n",
       "      <th>Beverage</th>\n",
       "      <th>Beverage_prep</th>\n",
       "      <th>Calories</th>\n",
       "      <th>Total Fat (g)</th>\n",
       "      <th>Trans Fat (g)</th>\n",
       "      <th>Saturated Fat (g)</th>\n",
       "      <th>Sodium (mg)</th>\n",
       "      <th>Total Carbohydrates (g)</th>\n",
       "      <th>Cholesterol (mg)</th>\n",
       "      <th>Dietary Fibre (g)</th>\n",
       "      <th>Sugars (g)</th>\n",
       "      <th>Protein (g)</th>\n",
       "      <th>Vitamin A (% DV)</th>\n",
       "      <th>Vitamin C (% DV)</th>\n",
       "      <th>Calcium (% DV)</th>\n",
       "      <th>Iron (% DV)</th>\n",
       "      <th>Caffeine (mg)</th>\n",
       "    </tr>\n",
       "  </thead>\n",
       "  <tbody>\n",
       "    <tr>\n",
       "      <th>0</th>\n",
       "      <td>Coffee</td>\n",
       "      <td>Brewed Coffee</td>\n",
       "      <td>Short</td>\n",
       "      <td>3</td>\n",
       "      <td>0.1</td>\n",
       "      <td>0.0</td>\n",
       "      <td>0.0</td>\n",
       "      <td>0</td>\n",
       "      <td>5</td>\n",
       "      <td>0</td>\n",
       "      <td>0</td>\n",
       "      <td>0</td>\n",
       "      <td>0.3</td>\n",
       "      <td>0%</td>\n",
       "      <td>0%</td>\n",
       "      <td>0%</td>\n",
       "      <td>0%</td>\n",
       "      <td>175</td>\n",
       "    </tr>\n",
       "    <tr>\n",
       "      <th>1</th>\n",
       "      <td>Coffee</td>\n",
       "      <td>Brewed Coffee</td>\n",
       "      <td>Tall</td>\n",
       "      <td>4</td>\n",
       "      <td>0.1</td>\n",
       "      <td>0.0</td>\n",
       "      <td>0.0</td>\n",
       "      <td>0</td>\n",
       "      <td>10</td>\n",
       "      <td>0</td>\n",
       "      <td>0</td>\n",
       "      <td>0</td>\n",
       "      <td>0.5</td>\n",
       "      <td>0%</td>\n",
       "      <td>0%</td>\n",
       "      <td>0%</td>\n",
       "      <td>0%</td>\n",
       "      <td>260</td>\n",
       "    </tr>\n",
       "    <tr>\n",
       "      <th>2</th>\n",
       "      <td>Coffee</td>\n",
       "      <td>Brewed Coffee</td>\n",
       "      <td>Grande</td>\n",
       "      <td>5</td>\n",
       "      <td>0.1</td>\n",
       "      <td>0.0</td>\n",
       "      <td>0.0</td>\n",
       "      <td>0</td>\n",
       "      <td>10</td>\n",
       "      <td>0</td>\n",
       "      <td>0</td>\n",
       "      <td>0</td>\n",
       "      <td>1.0</td>\n",
       "      <td>0%</td>\n",
       "      <td>0%</td>\n",
       "      <td>0%</td>\n",
       "      <td>0%</td>\n",
       "      <td>330</td>\n",
       "    </tr>\n",
       "    <tr>\n",
       "      <th>3</th>\n",
       "      <td>Coffee</td>\n",
       "      <td>Brewed Coffee</td>\n",
       "      <td>Venti</td>\n",
       "      <td>5</td>\n",
       "      <td>0.1</td>\n",
       "      <td>0.0</td>\n",
       "      <td>0.0</td>\n",
       "      <td>0</td>\n",
       "      <td>10</td>\n",
       "      <td>0</td>\n",
       "      <td>0</td>\n",
       "      <td>0</td>\n",
       "      <td>1.0</td>\n",
       "      <td>0%</td>\n",
       "      <td>0%</td>\n",
       "      <td>2%</td>\n",
       "      <td>0%</td>\n",
       "      <td>410</td>\n",
       "    </tr>\n",
       "    <tr>\n",
       "      <th>4</th>\n",
       "      <td>Classic Espresso Drinks</td>\n",
       "      <td>Caffè Latte</td>\n",
       "      <td>Short Nonfat Milk</td>\n",
       "      <td>70</td>\n",
       "      <td>0.1</td>\n",
       "      <td>0.1</td>\n",
       "      <td>0.0</td>\n",
       "      <td>5</td>\n",
       "      <td>75</td>\n",
       "      <td>10</td>\n",
       "      <td>0</td>\n",
       "      <td>9</td>\n",
       "      <td>6.0</td>\n",
       "      <td>10%</td>\n",
       "      <td>0%</td>\n",
       "      <td>20%</td>\n",
       "      <td>0%</td>\n",
       "      <td>75</td>\n",
       "    </tr>\n",
       "    <tr>\n",
       "      <th>...</th>\n",
       "      <td>...</td>\n",
       "      <td>...</td>\n",
       "      <td>...</td>\n",
       "      <td>...</td>\n",
       "      <td>...</td>\n",
       "      <td>...</td>\n",
       "      <td>...</td>\n",
       "      <td>...</td>\n",
       "      <td>...</td>\n",
       "      <td>...</td>\n",
       "      <td>...</td>\n",
       "      <td>...</td>\n",
       "      <td>...</td>\n",
       "      <td>...</td>\n",
       "      <td>...</td>\n",
       "      <td>...</td>\n",
       "      <td>...</td>\n",
       "      <td>...</td>\n",
       "    </tr>\n",
       "    <tr>\n",
       "      <th>237</th>\n",
       "      <td>Frappuccino® Blended Crème</td>\n",
       "      <td>Strawberries &amp; Crème (Without Whipped Cream)</td>\n",
       "      <td>Soymilk</td>\n",
       "      <td>320</td>\n",
       "      <td>3 2</td>\n",
       "      <td>0.4</td>\n",
       "      <td>0.0</td>\n",
       "      <td>0</td>\n",
       "      <td>250</td>\n",
       "      <td>67</td>\n",
       "      <td>1</td>\n",
       "      <td>64</td>\n",
       "      <td>5.0</td>\n",
       "      <td>6%</td>\n",
       "      <td>8%</td>\n",
       "      <td>20%</td>\n",
       "      <td>10%</td>\n",
       "      <td>0</td>\n",
       "    </tr>\n",
       "    <tr>\n",
       "      <th>238</th>\n",
       "      <td>Frappuccino® Blended Crème</td>\n",
       "      <td>Vanilla Bean (Without Whipped Cream)</td>\n",
       "      <td>Tall Nonfat Milk</td>\n",
       "      <td>170</td>\n",
       "      <td>0.1</td>\n",
       "      <td>0.1</td>\n",
       "      <td>0.0</td>\n",
       "      <td>0</td>\n",
       "      <td>160</td>\n",
       "      <td>39</td>\n",
       "      <td>0</td>\n",
       "      <td>38</td>\n",
       "      <td>4.0</td>\n",
       "      <td>6%</td>\n",
       "      <td>0%</td>\n",
       "      <td>10%</td>\n",
       "      <td>0%</td>\n",
       "      <td>0</td>\n",
       "    </tr>\n",
       "    <tr>\n",
       "      <th>239</th>\n",
       "      <td>Frappuccino® Blended Crème</td>\n",
       "      <td>Vanilla Bean (Without Whipped Cream)</td>\n",
       "      <td>Whole Milk</td>\n",
       "      <td>200</td>\n",
       "      <td>3.5</td>\n",
       "      <td>2.0</td>\n",
       "      <td>0.1</td>\n",
       "      <td>10</td>\n",
       "      <td>160</td>\n",
       "      <td>39</td>\n",
       "      <td>0</td>\n",
       "      <td>38</td>\n",
       "      <td>3.0</td>\n",
       "      <td>6%</td>\n",
       "      <td>0%</td>\n",
       "      <td>10%</td>\n",
       "      <td>0%</td>\n",
       "      <td>0</td>\n",
       "    </tr>\n",
       "    <tr>\n",
       "      <th>240</th>\n",
       "      <td>Frappuccino® Blended Crème</td>\n",
       "      <td>Vanilla Bean (Without Whipped Cream)</td>\n",
       "      <td>Soymilk</td>\n",
       "      <td>180</td>\n",
       "      <td>1.5</td>\n",
       "      <td>0.2</td>\n",
       "      <td>0.0</td>\n",
       "      <td>0</td>\n",
       "      <td>160</td>\n",
       "      <td>37</td>\n",
       "      <td>1</td>\n",
       "      <td>35</td>\n",
       "      <td>3.0</td>\n",
       "      <td>4%</td>\n",
       "      <td>0%</td>\n",
       "      <td>10%</td>\n",
       "      <td>6%</td>\n",
       "      <td>0</td>\n",
       "    </tr>\n",
       "    <tr>\n",
       "      <th>241</th>\n",
       "      <td>Frappuccino® Blended Crème</td>\n",
       "      <td>Vanilla Bean (Without Whipped Cream)</td>\n",
       "      <td>Grande Nonfat Milk</td>\n",
       "      <td>240</td>\n",
       "      <td>0.1</td>\n",
       "      <td>0.1</td>\n",
       "      <td>0.0</td>\n",
       "      <td>5</td>\n",
       "      <td>230</td>\n",
       "      <td>56</td>\n",
       "      <td>0</td>\n",
       "      <td>55</td>\n",
       "      <td>5.0</td>\n",
       "      <td>8%</td>\n",
       "      <td>0%</td>\n",
       "      <td>15%</td>\n",
       "      <td>0%</td>\n",
       "      <td>0</td>\n",
       "    </tr>\n",
       "  </tbody>\n",
       "</table>\n",
       "<p>242 rows × 18 columns</p>\n",
       "</div>"
      ],
      "text/plain": [
       "              Beverage_category                                      Beverage  \\\n",
       "0                        Coffee                                 Brewed Coffee   \n",
       "1                        Coffee                                 Brewed Coffee   \n",
       "2                        Coffee                                 Brewed Coffee   \n",
       "3                        Coffee                                 Brewed Coffee   \n",
       "4       Classic Espresso Drinks                                   Caffè Latte   \n",
       "..                          ...                                           ...   \n",
       "237  Frappuccino® Blended Crème  Strawberries & Crème (Without Whipped Cream)   \n",
       "238  Frappuccino® Blended Crème          Vanilla Bean (Without Whipped Cream)   \n",
       "239  Frappuccino® Blended Crème          Vanilla Bean (Without Whipped Cream)   \n",
       "240  Frappuccino® Blended Crème          Vanilla Bean (Without Whipped Cream)   \n",
       "241  Frappuccino® Blended Crème          Vanilla Bean (Without Whipped Cream)   \n",
       "\n",
       "          Beverage_prep  Calories  Total Fat (g)  Trans Fat (g)   \\\n",
       "0                 Short         3            0.1             0.0   \n",
       "1                  Tall         4            0.1             0.0   \n",
       "2                Grande         5            0.1             0.0   \n",
       "3                 Venti         5            0.1             0.0   \n",
       "4     Short Nonfat Milk        70            0.1             0.1   \n",
       "..                  ...       ...            ...             ...   \n",
       "237             Soymilk       320            3 2             0.4   \n",
       "238    Tall Nonfat Milk       170            0.1             0.1   \n",
       "239          Whole Milk       200            3.5             2.0   \n",
       "240             Soymilk       180            1.5             0.2   \n",
       "241  Grande Nonfat Milk       240            0.1             0.1   \n",
       "\n",
       "     Saturated Fat (g)   Sodium (mg)   Total Carbohydrates (g)   \\\n",
       "0                  0.0             0                          5   \n",
       "1                  0.0             0                         10   \n",
       "2                  0.0             0                         10   \n",
       "3                  0.0             0                         10   \n",
       "4                  0.0             5                         75   \n",
       "..                 ...           ...                        ...   \n",
       "237                0.0             0                        250   \n",
       "238                0.0             0                        160   \n",
       "239                0.1            10                        160   \n",
       "240                0.0             0                        160   \n",
       "241                0.0             5                        230   \n",
       "\n",
       "     Cholesterol (mg)   Dietary Fibre (g)   Sugars (g)   Protein (g)   \\\n",
       "0                   0                   0            0            0.3   \n",
       "1                   0                   0            0            0.5   \n",
       "2                   0                   0            0            1.0   \n",
       "3                   0                   0            0            1.0   \n",
       "4                  10                   0            9            6.0   \n",
       "..                ...                 ...          ...            ...   \n",
       "237                67                   1           64            5.0   \n",
       "238                39                   0           38            4.0   \n",
       "239                39                   0           38            3.0   \n",
       "240                37                   1           35            3.0   \n",
       "241                56                   0           55            5.0   \n",
       "\n",
       "    Vitamin A (% DV)  Vitamin C (% DV)  Calcium (% DV)  Iron (% DV)   \\\n",
       "0                  0%               0%               0%           0%   \n",
       "1                  0%               0%               0%           0%   \n",
       "2                  0%               0%               0%           0%   \n",
       "3                  0%               0%               2%           0%   \n",
       "4                 10%               0%              20%           0%   \n",
       "..                ...              ...              ...          ...   \n",
       "237                6%               8%              20%          10%   \n",
       "238                6%               0%              10%           0%   \n",
       "239                6%               0%              10%           0%   \n",
       "240                4%               0%              10%           6%   \n",
       "241                8%               0%              15%           0%   \n",
       "\n",
       "    Caffeine (mg)  \n",
       "0             175  \n",
       "1             260  \n",
       "2             330  \n",
       "3             410  \n",
       "4              75  \n",
       "..            ...  \n",
       "237             0  \n",
       "238             0  \n",
       "239             0  \n",
       "240             0  \n",
       "241             0  \n",
       "\n",
       "[242 rows x 18 columns]"
      ]
     },
     "execution_count": 3,
     "metadata": {},
     "output_type": "execute_result"
    }
   ],
   "source": [
    "df = pd.read_csv(r'C:\\Users\\Ni Qie\\Desktop\\springboard\\craft a story from dataset\\starbucks_drinkMenu_expanded.csv')\n",
    "df"
   ]
  },
  {
   "cell_type": "markdown",
   "metadata": {
    "papermill": {
     "duration": 0.044126,
     "end_time": "2021-01-05T15:24:30.882764",
     "exception": false,
     "start_time": "2021-01-05T15:24:30.838638",
     "status": "completed"
    },
    "tags": []
   },
   "source": [
    "### * Print the Datatypes of the dataset"
   ]
  },
  {
   "cell_type": "code",
   "execution_count": 4,
   "metadata": {
    "execution": {
     "iopub.execute_input": "2021-01-05T15:24:30.982001Z",
     "iopub.status.busy": "2021-01-05T15:24:30.980810Z",
     "iopub.status.idle": "2021-01-05T15:24:30.987495Z",
     "shell.execute_reply": "2021-01-05T15:24:30.986647Z"
    },
    "papermill": {
     "duration": 0.059604,
     "end_time": "2021-01-05T15:24:30.987642",
     "exception": false,
     "start_time": "2021-01-05T15:24:30.928038",
     "status": "completed"
    },
    "tags": []
   },
   "outputs": [
    {
     "data": {
      "text/plain": [
       "Beverage_category             object\n",
       "Beverage                      object\n",
       "Beverage_prep                 object\n",
       "Calories                       int64\n",
       " Total Fat (g)                object\n",
       "Trans Fat (g)                float64\n",
       "Saturated Fat (g)            float64\n",
       " Sodium (mg)                   int64\n",
       " Total Carbohydrates (g)       int64\n",
       "Cholesterol (mg)               int64\n",
       " Dietary Fibre (g)             int64\n",
       " Sugars (g)                    int64\n",
       " Protein (g)                 float64\n",
       "Vitamin A (% DV)              object\n",
       "Vitamin C (% DV)              object\n",
       " Calcium (% DV)               object\n",
       "Iron (% DV)                   object\n",
       "Caffeine (mg)                 object\n",
       "dtype: object"
      ]
     },
     "execution_count": 4,
     "metadata": {},
     "output_type": "execute_result"
    }
   ],
   "source": [
    "df.dtypes"
   ]
  },
  {
   "cell_type": "code",
   "execution_count": 5,
   "metadata": {
    "execution": {
     "iopub.execute_input": "2021-01-05T15:24:31.138873Z",
     "iopub.status.busy": "2021-01-05T15:24:31.137897Z",
     "iopub.status.idle": "2021-01-05T15:24:31.148387Z",
     "shell.execute_reply": "2021-01-05T15:24:31.147042Z"
    },
    "papermill": {
     "duration": 0.094038,
     "end_time": "2021-01-05T15:24:31.148648",
     "exception": false,
     "start_time": "2021-01-05T15:24:31.054610",
     "status": "completed"
    },
    "tags": []
   },
   "outputs": [
    {
     "name": "stdout",
     "output_type": "stream",
     "text": [
      "<class 'pandas.core.frame.DataFrame'>\n",
      "RangeIndex: 242 entries, 0 to 241\n",
      "Data columns (total 18 columns):\n",
      " #   Column                     Non-Null Count  Dtype  \n",
      "---  ------                     --------------  -----  \n",
      " 0   Beverage_category          242 non-null    object \n",
      " 1   Beverage                   242 non-null    object \n",
      " 2   Beverage_prep              242 non-null    object \n",
      " 3   Calories                   242 non-null    int64  \n",
      " 4    Total Fat (g)             242 non-null    object \n",
      " 5   Trans Fat (g)              242 non-null    float64\n",
      " 6   Saturated Fat (g)          242 non-null    float64\n",
      " 7    Sodium (mg)               242 non-null    int64  \n",
      " 8    Total Carbohydrates (g)   242 non-null    int64  \n",
      " 9   Cholesterol (mg)           242 non-null    int64  \n",
      " 10   Dietary Fibre (g)         242 non-null    int64  \n",
      " 11   Sugars (g)                242 non-null    int64  \n",
      " 12   Protein (g)               242 non-null    float64\n",
      " 13  Vitamin A (% DV)           242 non-null    object \n",
      " 14  Vitamin C (% DV)           242 non-null    object \n",
      " 15   Calcium (% DV)            242 non-null    object \n",
      " 16  Iron (% DV)                242 non-null    object \n",
      " 17  Caffeine (mg)              241 non-null    object \n",
      "dtypes: float64(3), int64(6), object(9)\n",
      "memory usage: 34.2+ KB\n"
     ]
    }
   ],
   "source": [
    "df.info()"
   ]
  },
  {
   "cell_type": "markdown",
   "metadata": {
    "papermill": {
     "duration": 0.066629,
     "end_time": "2021-01-05T15:24:31.287463",
     "exception": false,
     "start_time": "2021-01-05T15:24:31.220834",
     "status": "completed"
    },
    "tags": []
   },
   "source": [
    "### * Removing the Duplicates if any"
   ]
  },
  {
   "cell_type": "code",
   "execution_count": 7,
   "metadata": {
    "execution": {
     "iopub.execute_input": "2021-01-05T15:24:31.433596Z",
     "iopub.status.busy": "2021-01-05T15:24:31.432674Z",
     "iopub.status.idle": "2021-01-05T15:24:31.452182Z",
     "shell.execute_reply": "2021-01-05T15:24:31.451385Z"
    },
    "papermill": {
     "duration": 0.096392,
     "end_time": "2021-01-05T15:24:31.452324",
     "exception": false,
     "start_time": "2021-01-05T15:24:31.355932",
     "status": "completed"
    },
    "tags": []
   },
   "outputs": [
    {
     "data": {
      "text/plain": [
       "0"
      ]
     },
     "execution_count": 7,
     "metadata": {},
     "output_type": "execute_result"
    }
   ],
   "source": [
    "df.duplicated().sum()"
   ]
  },
  {
   "cell_type": "code",
   "execution_count": 8,
   "metadata": {
    "execution": {
     "iopub.execute_input": "2021-01-05T15:24:31.618517Z",
     "iopub.status.busy": "2021-01-05T15:24:31.617668Z",
     "iopub.status.idle": "2021-01-05T15:24:31.624876Z",
     "shell.execute_reply": "2021-01-05T15:24:31.624210Z"
    },
    "papermill": {
     "duration": 0.103347,
     "end_time": "2021-01-05T15:24:31.625003",
     "exception": false,
     "start_time": "2021-01-05T15:24:31.521656",
     "status": "completed"
    },
    "tags": []
   },
   "outputs": [
    {
     "data": {
      "text/html": [
       "<div>\n",
       "<style scoped>\n",
       "    .dataframe tbody tr th:only-of-type {\n",
       "        vertical-align: middle;\n",
       "    }\n",
       "\n",
       "    .dataframe tbody tr th {\n",
       "        vertical-align: top;\n",
       "    }\n",
       "\n",
       "    .dataframe thead th {\n",
       "        text-align: right;\n",
       "    }\n",
       "</style>\n",
       "<table border=\"1\" class=\"dataframe\">\n",
       "  <thead>\n",
       "    <tr style=\"text-align: right;\">\n",
       "      <th></th>\n",
       "      <th>Beverage_category</th>\n",
       "      <th>Beverage</th>\n",
       "      <th>Beverage_prep</th>\n",
       "      <th>Calories</th>\n",
       "      <th>Total Fat (g)</th>\n",
       "      <th>Trans Fat (g)</th>\n",
       "      <th>Saturated Fat (g)</th>\n",
       "      <th>Sodium (mg)</th>\n",
       "      <th>Total Carbohydrates (g)</th>\n",
       "      <th>Cholesterol (mg)</th>\n",
       "      <th>Dietary Fibre (g)</th>\n",
       "      <th>Sugars (g)</th>\n",
       "      <th>Protein (g)</th>\n",
       "      <th>Vitamin A (% DV)</th>\n",
       "      <th>Vitamin C (% DV)</th>\n",
       "      <th>Calcium (% DV)</th>\n",
       "      <th>Iron (% DV)</th>\n",
       "      <th>Caffeine (mg)</th>\n",
       "    </tr>\n",
       "  </thead>\n",
       "  <tbody>\n",
       "    <tr>\n",
       "      <th>0</th>\n",
       "      <td>Coffee</td>\n",
       "      <td>Brewed Coffee</td>\n",
       "      <td>Short</td>\n",
       "      <td>3</td>\n",
       "      <td>0.1</td>\n",
       "      <td>0.0</td>\n",
       "      <td>0.0</td>\n",
       "      <td>0</td>\n",
       "      <td>5</td>\n",
       "      <td>0</td>\n",
       "      <td>0</td>\n",
       "      <td>0</td>\n",
       "      <td>0.3</td>\n",
       "      <td>0%</td>\n",
       "      <td>0%</td>\n",
       "      <td>0%</td>\n",
       "      <td>0%</td>\n",
       "      <td>175</td>\n",
       "    </tr>\n",
       "    <tr>\n",
       "      <th>1</th>\n",
       "      <td>Coffee</td>\n",
       "      <td>Brewed Coffee</td>\n",
       "      <td>Tall</td>\n",
       "      <td>4</td>\n",
       "      <td>0.1</td>\n",
       "      <td>0.0</td>\n",
       "      <td>0.0</td>\n",
       "      <td>0</td>\n",
       "      <td>10</td>\n",
       "      <td>0</td>\n",
       "      <td>0</td>\n",
       "      <td>0</td>\n",
       "      <td>0.5</td>\n",
       "      <td>0%</td>\n",
       "      <td>0%</td>\n",
       "      <td>0%</td>\n",
       "      <td>0%</td>\n",
       "      <td>260</td>\n",
       "    </tr>\n",
       "    <tr>\n",
       "      <th>2</th>\n",
       "      <td>Coffee</td>\n",
       "      <td>Brewed Coffee</td>\n",
       "      <td>Grande</td>\n",
       "      <td>5</td>\n",
       "      <td>0.1</td>\n",
       "      <td>0.0</td>\n",
       "      <td>0.0</td>\n",
       "      <td>0</td>\n",
       "      <td>10</td>\n",
       "      <td>0</td>\n",
       "      <td>0</td>\n",
       "      <td>0</td>\n",
       "      <td>1.0</td>\n",
       "      <td>0%</td>\n",
       "      <td>0%</td>\n",
       "      <td>0%</td>\n",
       "      <td>0%</td>\n",
       "      <td>330</td>\n",
       "    </tr>\n",
       "    <tr>\n",
       "      <th>3</th>\n",
       "      <td>Coffee</td>\n",
       "      <td>Brewed Coffee</td>\n",
       "      <td>Venti</td>\n",
       "      <td>5</td>\n",
       "      <td>0.1</td>\n",
       "      <td>0.0</td>\n",
       "      <td>0.0</td>\n",
       "      <td>0</td>\n",
       "      <td>10</td>\n",
       "      <td>0</td>\n",
       "      <td>0</td>\n",
       "      <td>0</td>\n",
       "      <td>1.0</td>\n",
       "      <td>0%</td>\n",
       "      <td>0%</td>\n",
       "      <td>2%</td>\n",
       "      <td>0%</td>\n",
       "      <td>410</td>\n",
       "    </tr>\n",
       "    <tr>\n",
       "      <th>4</th>\n",
       "      <td>Classic Espresso Drinks</td>\n",
       "      <td>Caffè Latte</td>\n",
       "      <td>Short Nonfat Milk</td>\n",
       "      <td>70</td>\n",
       "      <td>0.1</td>\n",
       "      <td>0.1</td>\n",
       "      <td>0.0</td>\n",
       "      <td>5</td>\n",
       "      <td>75</td>\n",
       "      <td>10</td>\n",
       "      <td>0</td>\n",
       "      <td>9</td>\n",
       "      <td>6.0</td>\n",
       "      <td>10%</td>\n",
       "      <td>0%</td>\n",
       "      <td>20%</td>\n",
       "      <td>0%</td>\n",
       "      <td>75</td>\n",
       "    </tr>\n",
       "  </tbody>\n",
       "</table>\n",
       "</div>"
      ],
      "text/plain": [
       "         Beverage_category       Beverage      Beverage_prep  Calories  \\\n",
       "0                   Coffee  Brewed Coffee              Short         3   \n",
       "1                   Coffee  Brewed Coffee               Tall         4   \n",
       "2                   Coffee  Brewed Coffee             Grande         5   \n",
       "3                   Coffee  Brewed Coffee              Venti         5   \n",
       "4  Classic Espresso Drinks    Caffè Latte  Short Nonfat Milk        70   \n",
       "\n",
       "   Total Fat (g)  Trans Fat (g)   Saturated Fat (g)   Sodium (mg)  \\\n",
       "0            0.1             0.0                0.0             0   \n",
       "1            0.1             0.0                0.0             0   \n",
       "2            0.1             0.0                0.0             0   \n",
       "3            0.1             0.0                0.0             0   \n",
       "4            0.1             0.1                0.0             5   \n",
       "\n",
       "    Total Carbohydrates (g)   Cholesterol (mg)   Dietary Fibre (g)  \\\n",
       "0                          5                 0                   0   \n",
       "1                         10                 0                   0   \n",
       "2                         10                 0                   0   \n",
       "3                         10                 0                   0   \n",
       "4                         75                10                   0   \n",
       "\n",
       "    Sugars (g)   Protein (g)  Vitamin A (% DV)  Vitamin C (% DV)  \\\n",
       "0            0            0.3                0%               0%   \n",
       "1            0            0.5                0%               0%   \n",
       "2            0            1.0                0%               0%   \n",
       "3            0            1.0                0%               0%   \n",
       "4            9            6.0               10%               0%   \n",
       "\n",
       "   Calcium (% DV)  Iron (% DV)  Caffeine (mg)  \n",
       "0               0%           0%           175  \n",
       "1               0%           0%           260  \n",
       "2               0%           0%           330  \n",
       "3               2%           0%           410  \n",
       "4              20%           0%            75  "
      ]
     },
     "execution_count": 8,
     "metadata": {},
     "output_type": "execute_result"
    }
   ],
   "source": [
    "df.head()"
   ]
  },
  {
   "cell_type": "markdown",
   "metadata": {
    "papermill": {
     "duration": 0.049495,
     "end_time": "2021-01-05T15:24:31.710577",
     "exception": false,
     "start_time": "2021-01-05T15:24:31.661082",
     "status": "completed"
    },
    "tags": []
   },
   "source": [
    "### * Print column names"
   ]
  },
  {
   "cell_type": "code",
   "execution_count": 9,
   "metadata": {
    "execution": {
     "iopub.execute_input": "2021-01-05T15:24:31.811630Z",
     "iopub.status.busy": "2021-01-05T15:24:31.810883Z",
     "iopub.status.idle": "2021-01-05T15:24:31.816775Z",
     "shell.execute_reply": "2021-01-05T15:24:31.816179Z"
    },
    "papermill": {
     "duration": 0.058673,
     "end_time": "2021-01-05T15:24:31.816904",
     "exception": false,
     "start_time": "2021-01-05T15:24:31.758231",
     "status": "completed"
    },
    "tags": []
   },
   "outputs": [
    {
     "data": {
      "text/plain": [
       "Index(['Beverage_category', 'Beverage', 'Beverage_prep', 'Calories',\n",
       "       ' Total Fat (g)', 'Trans Fat (g) ', 'Saturated Fat (g)', ' Sodium (mg)',\n",
       "       ' Total Carbohydrates (g) ', 'Cholesterol (mg)', ' Dietary Fibre (g)',\n",
       "       ' Sugars (g)', ' Protein (g) ', 'Vitamin A (% DV) ', 'Vitamin C (% DV)',\n",
       "       ' Calcium (% DV) ', 'Iron (% DV) ', 'Caffeine (mg)'],\n",
       "      dtype='object')"
      ]
     },
     "execution_count": 9,
     "metadata": {},
     "output_type": "execute_result"
    }
   ],
   "source": [
    "df.columns"
   ]
  },
  {
   "cell_type": "markdown",
   "metadata": {
    "papermill": {
     "duration": 0.046225,
     "end_time": "2021-01-05T15:24:31.910998",
     "exception": false,
     "start_time": "2021-01-05T15:24:31.864773",
     "status": "completed"
    },
    "tags": []
   },
   "source": [
    "# 3. Data Cleaning"
   ]
  },
  {
   "cell_type": "code",
   "execution_count": 11,
   "metadata": {},
   "outputs": [],
   "source": [
    "#check for the null values in each column and the null value's percentage in each column\n",
    "def missing (df):\n",
    "    missing_number = df.isnull().sum().sort_values(ascending=False)                           \n",
    "    missing_percent = (df.isnull().sum()/df.isnull().count()).sort_values(ascending=False)          \n",
    "    missing_values = pd.concat([missing_number, missing_percent], axis=1, keys=['Missing_Number', 'Missing_Percent'])      \n",
    "    return missing_values"
   ]
  },
  {
   "cell_type": "code",
   "execution_count": 12,
   "metadata": {
    "scrolled": false
   },
   "outputs": [
    {
     "data": {
      "text/html": [
       "<div>\n",
       "<style scoped>\n",
       "    .dataframe tbody tr th:only-of-type {\n",
       "        vertical-align: middle;\n",
       "    }\n",
       "\n",
       "    .dataframe tbody tr th {\n",
       "        vertical-align: top;\n",
       "    }\n",
       "\n",
       "    .dataframe thead th {\n",
       "        text-align: right;\n",
       "    }\n",
       "</style>\n",
       "<table border=\"1\" class=\"dataframe\">\n",
       "  <thead>\n",
       "    <tr style=\"text-align: right;\">\n",
       "      <th></th>\n",
       "      <th>Missing_Number</th>\n",
       "      <th>Missing_Percent</th>\n",
       "    </tr>\n",
       "  </thead>\n",
       "  <tbody>\n",
       "    <tr>\n",
       "      <th>Caffeine (mg)</th>\n",
       "      <td>1</td>\n",
       "      <td>0.004132</td>\n",
       "    </tr>\n",
       "    <tr>\n",
       "      <th>Beverage</th>\n",
       "      <td>0</td>\n",
       "      <td>0.000000</td>\n",
       "    </tr>\n",
       "    <tr>\n",
       "      <th>Iron (% DV)</th>\n",
       "      <td>0</td>\n",
       "      <td>0.000000</td>\n",
       "    </tr>\n",
       "    <tr>\n",
       "      <th>Calcium (% DV)</th>\n",
       "      <td>0</td>\n",
       "      <td>0.000000</td>\n",
       "    </tr>\n",
       "    <tr>\n",
       "      <th>Vitamin C (% DV)</th>\n",
       "      <td>0</td>\n",
       "      <td>0.000000</td>\n",
       "    </tr>\n",
       "    <tr>\n",
       "      <th>Vitamin A (% DV)</th>\n",
       "      <td>0</td>\n",
       "      <td>0.000000</td>\n",
       "    </tr>\n",
       "    <tr>\n",
       "      <th>Protein (g)</th>\n",
       "      <td>0</td>\n",
       "      <td>0.000000</td>\n",
       "    </tr>\n",
       "    <tr>\n",
       "      <th>Sugars (g)</th>\n",
       "      <td>0</td>\n",
       "      <td>0.000000</td>\n",
       "    </tr>\n",
       "    <tr>\n",
       "      <th>Dietary Fibre (g)</th>\n",
       "      <td>0</td>\n",
       "      <td>0.000000</td>\n",
       "    </tr>\n",
       "    <tr>\n",
       "      <th>Beverage_category</th>\n",
       "      <td>0</td>\n",
       "      <td>0.000000</td>\n",
       "    </tr>\n",
       "    <tr>\n",
       "      <th>Total Carbohydrates (g)</th>\n",
       "      <td>0</td>\n",
       "      <td>0.000000</td>\n",
       "    </tr>\n",
       "    <tr>\n",
       "      <th>Sodium (mg)</th>\n",
       "      <td>0</td>\n",
       "      <td>0.000000</td>\n",
       "    </tr>\n",
       "    <tr>\n",
       "      <th>Saturated Fat (g)</th>\n",
       "      <td>0</td>\n",
       "      <td>0.000000</td>\n",
       "    </tr>\n",
       "    <tr>\n",
       "      <th>Trans Fat (g)</th>\n",
       "      <td>0</td>\n",
       "      <td>0.000000</td>\n",
       "    </tr>\n",
       "    <tr>\n",
       "      <th>Total Fat (g)</th>\n",
       "      <td>0</td>\n",
       "      <td>0.000000</td>\n",
       "    </tr>\n",
       "    <tr>\n",
       "      <th>Calories</th>\n",
       "      <td>0</td>\n",
       "      <td>0.000000</td>\n",
       "    </tr>\n",
       "    <tr>\n",
       "      <th>Beverage_prep</th>\n",
       "      <td>0</td>\n",
       "      <td>0.000000</td>\n",
       "    </tr>\n",
       "    <tr>\n",
       "      <th>Cholesterol (mg)</th>\n",
       "      <td>0</td>\n",
       "      <td>0.000000</td>\n",
       "    </tr>\n",
       "  </tbody>\n",
       "</table>\n",
       "</div>"
      ],
      "text/plain": [
       "                           Missing_Number  Missing_Percent\n",
       "Caffeine (mg)                           1         0.004132\n",
       "Beverage                                0         0.000000\n",
       "Iron (% DV)                             0         0.000000\n",
       " Calcium (% DV)                         0         0.000000\n",
       "Vitamin C (% DV)                        0         0.000000\n",
       "Vitamin A (% DV)                        0         0.000000\n",
       " Protein (g)                            0         0.000000\n",
       " Sugars (g)                             0         0.000000\n",
       " Dietary Fibre (g)                      0         0.000000\n",
       "Beverage_category                       0         0.000000\n",
       " Total Carbohydrates (g)                0         0.000000\n",
       " Sodium (mg)                            0         0.000000\n",
       "Saturated Fat (g)                       0         0.000000\n",
       "Trans Fat (g)                           0         0.000000\n",
       " Total Fat (g)                          0         0.000000\n",
       "Calories                                0         0.000000\n",
       "Beverage_prep                           0         0.000000\n",
       "Cholesterol (mg)                        0         0.000000"
      ]
     },
     "execution_count": 12,
     "metadata": {},
     "output_type": "execute_result"
    }
   ],
   "source": [
    "missing(df)"
   ]
  },
  {
   "cell_type": "markdown",
   "metadata": {
    "papermill": {
     "duration": 0.042844,
     "end_time": "2021-01-05T15:24:32.115230",
     "exception": false,
     "start_time": "2021-01-05T15:24:32.072386",
     "status": "completed"
    },
    "tags": []
   },
   "source": [
    "* Clean data. There is only 1 null value in Caffeine (mg), so I would drop this row. "
   ]
  },
  {
   "cell_type": "code",
   "execution_count": 18,
   "metadata": {},
   "outputs": [
    {
     "data": {
      "text/html": [
       "<div>\n",
       "<style scoped>\n",
       "    .dataframe tbody tr th:only-of-type {\n",
       "        vertical-align: middle;\n",
       "    }\n",
       "\n",
       "    .dataframe tbody tr th {\n",
       "        vertical-align: top;\n",
       "    }\n",
       "\n",
       "    .dataframe thead th {\n",
       "        text-align: right;\n",
       "    }\n",
       "</style>\n",
       "<table border=\"1\" class=\"dataframe\">\n",
       "  <thead>\n",
       "    <tr style=\"text-align: right;\">\n",
       "      <th></th>\n",
       "      <th>Missing_Number</th>\n",
       "      <th>Missing_Percent</th>\n",
       "    </tr>\n",
       "  </thead>\n",
       "  <tbody>\n",
       "    <tr>\n",
       "      <th>Beverage_category</th>\n",
       "      <td>0</td>\n",
       "      <td>0.0</td>\n",
       "    </tr>\n",
       "    <tr>\n",
       "      <th>Beverage</th>\n",
       "      <td>0</td>\n",
       "      <td>0.0</td>\n",
       "    </tr>\n",
       "    <tr>\n",
       "      <th>Iron (% DV)</th>\n",
       "      <td>0</td>\n",
       "      <td>0.0</td>\n",
       "    </tr>\n",
       "    <tr>\n",
       "      <th>Calcium (% DV)</th>\n",
       "      <td>0</td>\n",
       "      <td>0.0</td>\n",
       "    </tr>\n",
       "    <tr>\n",
       "      <th>Vitamin C (% DV)</th>\n",
       "      <td>0</td>\n",
       "      <td>0.0</td>\n",
       "    </tr>\n",
       "    <tr>\n",
       "      <th>Vitamin A (% DV)</th>\n",
       "      <td>0</td>\n",
       "      <td>0.0</td>\n",
       "    </tr>\n",
       "    <tr>\n",
       "      <th>Protein (g)</th>\n",
       "      <td>0</td>\n",
       "      <td>0.0</td>\n",
       "    </tr>\n",
       "    <tr>\n",
       "      <th>Sugars (g)</th>\n",
       "      <td>0</td>\n",
       "      <td>0.0</td>\n",
       "    </tr>\n",
       "    <tr>\n",
       "      <th>Dietary Fibre (g)</th>\n",
       "      <td>0</td>\n",
       "      <td>0.0</td>\n",
       "    </tr>\n",
       "    <tr>\n",
       "      <th>Cholesterol (mg)</th>\n",
       "      <td>0</td>\n",
       "      <td>0.0</td>\n",
       "    </tr>\n",
       "    <tr>\n",
       "      <th>Total Carbohydrates (g)</th>\n",
       "      <td>0</td>\n",
       "      <td>0.0</td>\n",
       "    </tr>\n",
       "    <tr>\n",
       "      <th>Sodium (mg)</th>\n",
       "      <td>0</td>\n",
       "      <td>0.0</td>\n",
       "    </tr>\n",
       "    <tr>\n",
       "      <th>Saturated Fat (g)</th>\n",
       "      <td>0</td>\n",
       "      <td>0.0</td>\n",
       "    </tr>\n",
       "    <tr>\n",
       "      <th>Trans Fat (g)</th>\n",
       "      <td>0</td>\n",
       "      <td>0.0</td>\n",
       "    </tr>\n",
       "    <tr>\n",
       "      <th>Total Fat (g)</th>\n",
       "      <td>0</td>\n",
       "      <td>0.0</td>\n",
       "    </tr>\n",
       "    <tr>\n",
       "      <th>Calories</th>\n",
       "      <td>0</td>\n",
       "      <td>0.0</td>\n",
       "    </tr>\n",
       "    <tr>\n",
       "      <th>Beverage_prep</th>\n",
       "      <td>0</td>\n",
       "      <td>0.0</td>\n",
       "    </tr>\n",
       "    <tr>\n",
       "      <th>Caffeine (mg)</th>\n",
       "      <td>0</td>\n",
       "      <td>0.0</td>\n",
       "    </tr>\n",
       "  </tbody>\n",
       "</table>\n",
       "</div>"
      ],
      "text/plain": [
       "                           Missing_Number  Missing_Percent\n",
       "Beverage_category                       0              0.0\n",
       "Beverage                                0              0.0\n",
       "Iron (% DV)                             0              0.0\n",
       " Calcium (% DV)                         0              0.0\n",
       "Vitamin C (% DV)                        0              0.0\n",
       "Vitamin A (% DV)                        0              0.0\n",
       " Protein (g)                            0              0.0\n",
       " Sugars (g)                             0              0.0\n",
       " Dietary Fibre (g)                      0              0.0\n",
       "Cholesterol (mg)                        0              0.0\n",
       " Total Carbohydrates (g)                0              0.0\n",
       " Sodium (mg)                            0              0.0\n",
       "Saturated Fat (g)                       0              0.0\n",
       "Trans Fat (g)                           0              0.0\n",
       " Total Fat (g)                          0              0.0\n",
       "Calories                                0              0.0\n",
       "Beverage_prep                           0              0.0\n",
       "Caffeine (mg)                           0              0.0"
      ]
     },
     "execution_count": 18,
     "metadata": {},
     "output_type": "execute_result"
    }
   ],
   "source": [
    "df = df.dropna()\n",
    "missing(df)"
   ]
  },
  {
   "cell_type": "markdown",
   "metadata": {
    "papermill": {
     "duration": 0.047923,
     "end_time": "2021-01-05T15:24:32.211819",
     "exception": false,
     "start_time": "2021-01-05T15:24:32.163896",
     "status": "completed"
    },
    "tags": []
   },
   "source": [
    "# 4. Questions and Data Visualizations"
   ]
  },
  {
   "cell_type": "code",
   "execution_count": 19,
   "metadata": {
    "execution": {
     "iopub.execute_input": "2021-01-05T15:24:32.313879Z",
     "iopub.status.busy": "2021-01-05T15:24:32.313195Z",
     "iopub.status.idle": "2021-01-05T15:24:32.319150Z",
     "shell.execute_reply": "2021-01-05T15:24:32.318428Z"
    },
    "papermill": {
     "duration": 0.057492,
     "end_time": "2021-01-05T15:24:32.319274",
     "exception": false,
     "start_time": "2021-01-05T15:24:32.261782",
     "status": "completed"
    },
    "tags": []
   },
   "outputs": [],
   "source": [
    "import seaborn as sns"
   ]
  },
  {
   "cell_type": "code",
   "execution_count": 20,
   "metadata": {
    "execution": {
     "iopub.execute_input": "2021-01-05T15:24:32.425234Z",
     "iopub.status.busy": "2021-01-05T15:24:32.424612Z",
     "iopub.status.idle": "2021-01-05T15:24:32.433875Z",
     "shell.execute_reply": "2021-01-05T15:24:32.433142Z"
    },
    "papermill": {
     "duration": 0.065708,
     "end_time": "2021-01-05T15:24:32.433999",
     "exception": false,
     "start_time": "2021-01-05T15:24:32.368291",
     "status": "completed"
    },
    "tags": []
   },
   "outputs": [
    {
     "data": {
      "text/plain": [
       "array(['Coffee', 'Classic Espresso Drinks', 'Signature Espresso Drinks',\n",
       "       'Tazo® Tea Drinks', 'Shaken Iced Beverages', 'Smoothies',\n",
       "       'Frappuccino® Blended Coffee', 'Frappuccino® Light Blended Coffee',\n",
       "       'Frappuccino® Blended Crème'], dtype=object)"
      ]
     },
     "execution_count": 20,
     "metadata": {},
     "output_type": "execute_result"
    }
   ],
   "source": [
    "df['Beverage_category'].unique()"
   ]
  },
  {
   "cell_type": "markdown",
   "metadata": {
    "papermill": {
     "duration": 0.049069,
     "end_time": "2021-01-05T15:24:32.533347",
     "exception": false,
     "start_time": "2021-01-05T15:24:32.484278",
     "status": "completed"
    },
    "tags": []
   },
   "source": [
    "### * Plot Beverage_categry"
   ]
  },
  {
   "cell_type": "code",
   "execution_count": 30,
   "metadata": {
    "execution": {
     "iopub.execute_input": "2021-01-05T15:24:32.643210Z",
     "iopub.status.busy": "2021-01-05T15:24:32.642050Z",
     "iopub.status.idle": "2021-01-05T15:24:32.651019Z",
     "shell.execute_reply": "2021-01-05T15:24:32.651592Z"
    },
    "papermill": {
     "duration": 0.06878,
     "end_time": "2021-01-05T15:24:32.651739",
     "exception": false,
     "start_time": "2021-01-05T15:24:32.582959",
     "status": "completed"
    },
    "tags": []
   },
   "outputs": [
    {
     "data": {
      "text/html": [
       "<div>\n",
       "<style scoped>\n",
       "    .dataframe tbody tr th:only-of-type {\n",
       "        vertical-align: middle;\n",
       "    }\n",
       "\n",
       "    .dataframe tbody tr th {\n",
       "        vertical-align: top;\n",
       "    }\n",
       "\n",
       "    .dataframe thead th {\n",
       "        text-align: right;\n",
       "    }\n",
       "</style>\n",
       "<table border=\"1\" class=\"dataframe\">\n",
       "  <thead>\n",
       "    <tr style=\"text-align: right;\">\n",
       "      <th></th>\n",
       "      <th>DrinkMenu</th>\n",
       "      <th>Calories</th>\n",
       "    </tr>\n",
       "  </thead>\n",
       "  <tbody>\n",
       "    <tr>\n",
       "      <th>0</th>\n",
       "      <td>Coffee</td>\n",
       "      <td>3</td>\n",
       "    </tr>\n",
       "    <tr>\n",
       "      <th>1</th>\n",
       "      <td>Coffee</td>\n",
       "      <td>4</td>\n",
       "    </tr>\n",
       "    <tr>\n",
       "      <th>2</th>\n",
       "      <td>Coffee</td>\n",
       "      <td>5</td>\n",
       "    </tr>\n",
       "    <tr>\n",
       "      <th>3</th>\n",
       "      <td>Coffee</td>\n",
       "      <td>5</td>\n",
       "    </tr>\n",
       "    <tr>\n",
       "      <th>4</th>\n",
       "      <td>Classic Espresso Drinks</td>\n",
       "      <td>70</td>\n",
       "    </tr>\n",
       "    <tr>\n",
       "      <th>...</th>\n",
       "      <td>...</td>\n",
       "      <td>...</td>\n",
       "    </tr>\n",
       "    <tr>\n",
       "      <th>237</th>\n",
       "      <td>Frappuccino® Blended Crème</td>\n",
       "      <td>320</td>\n",
       "    </tr>\n",
       "    <tr>\n",
       "      <th>238</th>\n",
       "      <td>Frappuccino® Blended Crème</td>\n",
       "      <td>170</td>\n",
       "    </tr>\n",
       "    <tr>\n",
       "      <th>239</th>\n",
       "      <td>Frappuccino® Blended Crème</td>\n",
       "      <td>200</td>\n",
       "    </tr>\n",
       "    <tr>\n",
       "      <th>240</th>\n",
       "      <td>Frappuccino® Blended Crème</td>\n",
       "      <td>180</td>\n",
       "    </tr>\n",
       "    <tr>\n",
       "      <th>241</th>\n",
       "      <td>Frappuccino® Blended Crème</td>\n",
       "      <td>240</td>\n",
       "    </tr>\n",
       "  </tbody>\n",
       "</table>\n",
       "<p>241 rows × 2 columns</p>\n",
       "</div>"
      ],
      "text/plain": [
       "                      DrinkMenu  Calories\n",
       "0                        Coffee         3\n",
       "1                        Coffee         4\n",
       "2                        Coffee         5\n",
       "3                        Coffee         5\n",
       "4       Classic Espresso Drinks        70\n",
       "..                          ...       ...\n",
       "237  Frappuccino® Blended Crème       320\n",
       "238  Frappuccino® Blended Crème       170\n",
       "239  Frappuccino® Blended Crème       200\n",
       "240  Frappuccino® Blended Crème       180\n",
       "241  Frappuccino® Blended Crème       240\n",
       "\n",
       "[241 rows x 2 columns]"
      ]
     },
     "execution_count": 30,
     "metadata": {},
     "output_type": "execute_result"
    }
   ],
   "source": [
    "#Pull two columns \"Beverage_category\" and \"Calories\" from df\n",
    "#Rename these two columns to \"DrinkMenu\" and \"Calories\"\n",
    "\n",
    "df.calories = df[['Beverage_category','Calories']]\n",
    "df.calories.rename(columns = {'Beverage_category':'DrinkMenu','Calories':'Calories'},inplace=True)\n",
    "df.calories"
   ]
  },
  {
   "cell_type": "code",
   "execution_count": 31,
   "metadata": {
    "execution": {
     "iopub.execute_input": "2021-01-05T15:24:32.755757Z",
     "iopub.status.busy": "2021-01-05T15:24:32.755032Z",
     "iopub.status.idle": "2021-01-05T15:24:33.005843Z",
     "shell.execute_reply": "2021-01-05T15:24:33.005133Z"
    },
    "papermill": {
     "duration": 0.302931,
     "end_time": "2021-01-05T15:24:33.005963",
     "exception": false,
     "start_time": "2021-01-05T15:24:32.703032",
     "status": "completed"
    },
    "tags": []
   },
   "outputs": [
    {
     "data": {
      "text/plain": [
       "<Axes: xlabel='count', ylabel='DrinkMenu'>"
      ]
     },
     "execution_count": 31,
     "metadata": {},
     "output_type": "execute_result"
    },
    {
     "data": {
      "image/png": "[encoded data removed]",
      "text/plain": [
       "<Figure size 432x288 with 1 Axes>"
      ]
     },
     "metadata": {
      "needs_background": "light"
     },
     "output_type": "display_data"
    }
   ],
   "source": [
    "sns.countplot(y='DrinkMenu', data=df.calories)"
   ]
  },
  {
   "cell_type": "markdown",
   "metadata": {
    "papermill": {
     "duration": 0.051014,
     "end_time": "2021-01-05T15:24:33.106991",
     "exception": false,
     "start_time": "2021-01-05T15:24:33.055977",
     "status": "completed"
    },
    "tags": []
   },
   "source": [
    "### * See number of drinks from Beverage_category"
   ]
  },
  {
   "cell_type": "code",
   "execution_count": 32,
   "metadata": {
    "execution": {
     "iopub.execute_input": "2021-01-05T15:24:33.226781Z",
     "iopub.status.busy": "2021-01-05T15:24:33.226082Z",
     "iopub.status.idle": "2021-01-05T15:24:33.233076Z",
     "shell.execute_reply": "2021-01-05T15:24:33.232426Z"
    },
    "papermill": {
     "duration": 0.076427,
     "end_time": "2021-01-05T15:24:33.233235",
     "exception": false,
     "start_time": "2021-01-05T15:24:33.156808",
     "status": "completed"
    },
    "tags": []
   },
   "outputs": [
    {
     "data": {
      "text/html": [
       "<div>\n",
       "<style scoped>\n",
       "    .dataframe tbody tr th:only-of-type {\n",
       "        vertical-align: middle;\n",
       "    }\n",
       "\n",
       "    .dataframe tbody tr th {\n",
       "        vertical-align: top;\n",
       "    }\n",
       "\n",
       "    .dataframe thead th {\n",
       "        text-align: right;\n",
       "    }\n",
       "</style>\n",
       "<table border=\"1\" class=\"dataframe\">\n",
       "  <thead>\n",
       "    <tr style=\"text-align: right;\">\n",
       "      <th></th>\n",
       "      <th>BeverageCategory</th>\n",
       "      <th>NumberofDrinks</th>\n",
       "    </tr>\n",
       "  </thead>\n",
       "  <tbody>\n",
       "    <tr>\n",
       "      <th>0</th>\n",
       "      <td>Classic Espresso Drinks</td>\n",
       "      <td>58</td>\n",
       "    </tr>\n",
       "    <tr>\n",
       "      <th>1</th>\n",
       "      <td>Tazo® Tea Drinks</td>\n",
       "      <td>52</td>\n",
       "    </tr>\n",
       "    <tr>\n",
       "      <th>2</th>\n",
       "      <td>Signature Espresso Drinks</td>\n",
       "      <td>40</td>\n",
       "    </tr>\n",
       "    <tr>\n",
       "      <th>3</th>\n",
       "      <td>Frappuccino® Blended Coffee</td>\n",
       "      <td>36</td>\n",
       "    </tr>\n",
       "    <tr>\n",
       "      <th>4</th>\n",
       "      <td>Shaken Iced Beverages</td>\n",
       "      <td>17</td>\n",
       "    </tr>\n",
       "  </tbody>\n",
       "</table>\n",
       "</div>"
      ],
      "text/plain": [
       "              BeverageCategory  NumberofDrinks\n",
       "0      Classic Espresso Drinks              58\n",
       "1             Tazo® Tea Drinks              52\n",
       "2    Signature Espresso Drinks              40\n",
       "3  Frappuccino® Blended Coffee              36\n",
       "4        Shaken Iced Beverages              17"
      ]
     },
     "execution_count": 32,
     "metadata": {},
     "output_type": "execute_result"
    }
   ],
   "source": [
    "#Create a DataFrame to see number of drinks by Beverage_category\n",
    "#assign \"BeverageCategory\" as index \n",
    "df_beverage = pd.DataFrame(df['Beverage_category'].value_counts()).reset_index()\n",
    "df_beverage.columns = ['BeverageCategory', 'NumberofDrinks']\n",
    "df_beverage.head()"
   ]
  },
  {
   "cell_type": "markdown",
   "metadata": {
    "papermill": {
     "duration": 0.060286,
     "end_time": "2021-01-05T15:24:36.186664",
     "exception": false,
     "start_time": "2021-01-05T15:24:36.126378",
     "status": "completed"
    },
    "tags": []
   },
   "source": [
    "## Q1. Which Starbucks drink has the highest calories from the dataset?"
   ]
  },
  {
   "cell_type": "code",
   "execution_count": 33,
   "metadata": {
    "execution": {
     "iopub.execute_input": "2021-01-05T15:24:36.362657Z",
     "iopub.status.busy": "2021-01-05T15:24:36.361889Z",
     "iopub.status.idle": "2021-01-05T15:24:36.368450Z",
     "shell.execute_reply": "2021-01-05T15:24:36.367717Z"
    },
    "papermill": {
     "duration": 0.099937,
     "end_time": "2021-01-05T15:24:36.368571",
     "exception": false,
     "start_time": "2021-01-05T15:24:36.268634",
     "status": "completed"
    },
    "tags": []
   },
   "outputs": [
    {
     "data": {
      "text/html": [
       "<div>\n",
       "<style scoped>\n",
       "    .dataframe tbody tr th:only-of-type {\n",
       "        vertical-align: middle;\n",
       "    }\n",
       "\n",
       "    .dataframe tbody tr th {\n",
       "        vertical-align: top;\n",
       "    }\n",
       "\n",
       "    .dataframe thead th {\n",
       "        text-align: right;\n",
       "    }\n",
       "</style>\n",
       "<table border=\"1\" class=\"dataframe\">\n",
       "  <thead>\n",
       "    <tr style=\"text-align: right;\">\n",
       "      <th></th>\n",
       "      <th>DrinkMenu</th>\n",
       "      <th>Calories</th>\n",
       "    </tr>\n",
       "  </thead>\n",
       "  <tbody>\n",
       "    <tr>\n",
       "      <th>84</th>\n",
       "      <td>Signature Espresso Drinks</td>\n",
       "      <td>510</td>\n",
       "    </tr>\n",
       "    <tr>\n",
       "      <th>215</th>\n",
       "      <td>Frappuccino® Blended Coffee</td>\n",
       "      <td>460</td>\n",
       "    </tr>\n",
       "    <tr>\n",
       "      <th>85</th>\n",
       "      <td>Signature Espresso Drinks</td>\n",
       "      <td>460</td>\n",
       "    </tr>\n",
       "    <tr>\n",
       "      <th>83</th>\n",
       "      <td>Signature Espresso Drinks</td>\n",
       "      <td>450</td>\n",
       "    </tr>\n",
       "    <tr>\n",
       "      <th>128</th>\n",
       "      <td>Tazo® Tea Drinks</td>\n",
       "      <td>450</td>\n",
       "    </tr>\n",
       "    <tr>\n",
       "      <th>...</th>\n",
       "      <td>...</td>\n",
       "      <td>...</td>\n",
       "    </tr>\n",
       "    <tr>\n",
       "      <th>0</th>\n",
       "      <td>Coffee</td>\n",
       "      <td>3</td>\n",
       "    </tr>\n",
       "    <tr>\n",
       "      <th>102</th>\n",
       "      <td>Tazo® Tea Drinks</td>\n",
       "      <td>0</td>\n",
       "    </tr>\n",
       "    <tr>\n",
       "      <th>105</th>\n",
       "      <td>Tazo® Tea Drinks</td>\n",
       "      <td>0</td>\n",
       "    </tr>\n",
       "    <tr>\n",
       "      <th>104</th>\n",
       "      <td>Tazo® Tea Drinks</td>\n",
       "      <td>0</td>\n",
       "    </tr>\n",
       "    <tr>\n",
       "      <th>103</th>\n",
       "      <td>Tazo® Tea Drinks</td>\n",
       "      <td>0</td>\n",
       "    </tr>\n",
       "  </tbody>\n",
       "</table>\n",
       "<p>241 rows × 2 columns</p>\n",
       "</div>"
      ],
      "text/plain": [
       "                       DrinkMenu  Calories\n",
       "84     Signature Espresso Drinks       510\n",
       "215  Frappuccino® Blended Coffee       460\n",
       "85     Signature Espresso Drinks       460\n",
       "83     Signature Espresso Drinks       450\n",
       "128             Tazo® Tea Drinks       450\n",
       "..                           ...       ...\n",
       "0                         Coffee         3\n",
       "102             Tazo® Tea Drinks         0\n",
       "105             Tazo® Tea Drinks         0\n",
       "104             Tazo® Tea Drinks         0\n",
       "103             Tazo® Tea Drinks         0\n",
       "\n",
       "[241 rows x 2 columns]"
      ]
     },
     "execution_count": 33,
     "metadata": {},
     "output_type": "execute_result"
    }
   ],
   "source": [
    "#To see which Starbucks drink has the highes calories Beverage_category\n",
    "df.calories.sort_values(\"Calories\", ascending=False)"
   ]
  },
  {
   "cell_type": "code",
   "execution_count": 36,
   "metadata": {
    "execution": {
     "iopub.execute_input": "2021-01-05T15:24:36.500003Z",
     "iopub.status.busy": "2021-01-05T15:24:36.499222Z",
     "iopub.status.idle": "2021-01-05T15:24:37.913747Z",
     "shell.execute_reply": "2021-01-05T15:24:37.913176Z"
    },
    "papermill": {
     "duration": 1.482341,
     "end_time": "2021-01-05T15:24:37.913874",
     "exception": false,
     "start_time": "2021-01-05T15:24:36.431533",
     "status": "completed"
    },
    "tags": []
   },
   "outputs": [
    {
     "data": {
      "image/png": "[encoded data removed]",
      "text/plain": [
       "<Figure size 1080x576 with 1 Axes>"
      ]
     },
     "metadata": {
      "needs_background": "light"
     },
     "output_type": "display_data"
    }
   ],
   "source": [
    "# data visualization to see the which Starbucks drink has the highest calories\n",
    "\n",
    "# Sort the DataFrame by the 'Calories' column\n",
    "df_sorted = df.sort_values(by='Calories', ascending=False)\n",
    "\n",
    "# Create a bar plot with the sorted data\n",
    "plt.figure(figsize=(15, 8))\n",
    "sns.barplot(x=\"Beverage\", y=\"Calories\", data=df_sorted)\n",
    "plt.xticks(rotation=40, ha='right')\n",
    "plt.title(\"Starbucks Beverage Calories\")\n",
    "plt.show()"
   ]
  },
  {
   "cell_type": "markdown",
   "metadata": {
    "papermill": {
     "duration": 0.06291,
     "end_time": "2021-01-05T15:24:38.042519",
     "exception": false,
     "start_time": "2021-01-05T15:24:37.979609",
     "status": "completed"
    },
    "tags": []
   },
   "source": [
    "* Overall, White chocolate mocha (without whipped cream), followed by Java Chip (Without Whipped Cream) out of the entire starbucks drinks"
   ]
  },
  {
   "cell_type": "markdown",
   "metadata": {
    "papermill": {
     "duration": 0.063674,
     "end_time": "2021-01-05T15:24:38.170624",
     "exception": false,
     "start_time": "2021-01-05T15:24:38.106950",
     "status": "completed"
    },
    "tags": []
   },
   "source": [
    "## Q2. Which drink has the highest calories from the Starbucks classic espresso drinks?"
   ]
  },
  {
   "cell_type": "code",
   "execution_count": 38,
   "metadata": {
    "execution": {
     "iopub.execute_input": "2021-01-05T15:24:38.332141Z",
     "iopub.status.busy": "2021-01-05T15:24:38.316809Z",
     "iopub.status.idle": "2021-01-05T15:24:38.339550Z",
     "shell.execute_reply": "2021-01-05T15:24:38.338907Z"
    },
    "papermill": {
     "duration": 0.103784,
     "end_time": "2021-01-05T15:24:38.339672",
     "exception": false,
     "start_time": "2021-01-05T15:24:38.235888",
     "status": "completed"
    },
    "tags": []
   },
   "outputs": [
    {
     "data": {
      "text/html": [
       "<div>\n",
       "<style scoped>\n",
       "    .dataframe tbody tr th:only-of-type {\n",
       "        vertical-align: middle;\n",
       "    }\n",
       "\n",
       "    .dataframe tbody tr th {\n",
       "        vertical-align: top;\n",
       "    }\n",
       "\n",
       "    .dataframe thead th {\n",
       "        text-align: right;\n",
       "    }\n",
       "</style>\n",
       "<table border=\"1\" class=\"dataframe\">\n",
       "  <thead>\n",
       "    <tr style=\"text-align: right;\">\n",
       "      <th></th>\n",
       "      <th>Beverage_category</th>\n",
       "      <th>Beverage</th>\n",
       "      <th>Beverage_prep</th>\n",
       "      <th>Calories</th>\n",
       "      <th>Total Fat (g)</th>\n",
       "      <th>Trans Fat (g)</th>\n",
       "      <th>Saturated Fat (g)</th>\n",
       "      <th>Sodium (mg)</th>\n",
       "      <th>Total Carbohydrates (g)</th>\n",
       "      <th>Cholesterol (mg)</th>\n",
       "      <th>Dietary Fibre (g)</th>\n",
       "      <th>Sugars (g)</th>\n",
       "      <th>Protein (g)</th>\n",
       "      <th>Vitamin A (% DV)</th>\n",
       "      <th>Vitamin C (% DV)</th>\n",
       "      <th>Calcium (% DV)</th>\n",
       "      <th>Iron (% DV)</th>\n",
       "      <th>Caffeine (mg)</th>\n",
       "    </tr>\n",
       "  </thead>\n",
       "  <tbody>\n",
       "    <tr>\n",
       "      <th>4</th>\n",
       "      <td>Classic Espresso Drinks</td>\n",
       "      <td>Caffè Latte</td>\n",
       "      <td>Short Nonfat Milk</td>\n",
       "      <td>70</td>\n",
       "      <td>0.1</td>\n",
       "      <td>0.1</td>\n",
       "      <td>0.0</td>\n",
       "      <td>5</td>\n",
       "      <td>75</td>\n",
       "      <td>10</td>\n",
       "      <td>0</td>\n",
       "      <td>9</td>\n",
       "      <td>6.0</td>\n",
       "      <td>10%</td>\n",
       "      <td>0%</td>\n",
       "      <td>20%</td>\n",
       "      <td>0%</td>\n",
       "      <td>75</td>\n",
       "    </tr>\n",
       "    <tr>\n",
       "      <th>5</th>\n",
       "      <td>Classic Espresso Drinks</td>\n",
       "      <td>Caffè Latte</td>\n",
       "      <td>2% Milk</td>\n",
       "      <td>100</td>\n",
       "      <td>3.5</td>\n",
       "      <td>2.0</td>\n",
       "      <td>0.1</td>\n",
       "      <td>15</td>\n",
       "      <td>85</td>\n",
       "      <td>10</td>\n",
       "      <td>0</td>\n",
       "      <td>9</td>\n",
       "      <td>6.0</td>\n",
       "      <td>10%</td>\n",
       "      <td>0%</td>\n",
       "      <td>20%</td>\n",
       "      <td>0%</td>\n",
       "      <td>75</td>\n",
       "    </tr>\n",
       "    <tr>\n",
       "      <th>6</th>\n",
       "      <td>Classic Espresso Drinks</td>\n",
       "      <td>Caffè Latte</td>\n",
       "      <td>Soymilk</td>\n",
       "      <td>70</td>\n",
       "      <td>2.5</td>\n",
       "      <td>0.4</td>\n",
       "      <td>0.0</td>\n",
       "      <td>0</td>\n",
       "      <td>65</td>\n",
       "      <td>6</td>\n",
       "      <td>1</td>\n",
       "      <td>4</td>\n",
       "      <td>5.0</td>\n",
       "      <td>6%</td>\n",
       "      <td>0%</td>\n",
       "      <td>20%</td>\n",
       "      <td>8%</td>\n",
       "      <td>75</td>\n",
       "    </tr>\n",
       "    <tr>\n",
       "      <th>7</th>\n",
       "      <td>Classic Espresso Drinks</td>\n",
       "      <td>Caffè Latte</td>\n",
       "      <td>Tall Nonfat Milk</td>\n",
       "      <td>100</td>\n",
       "      <td>0.2</td>\n",
       "      <td>0.2</td>\n",
       "      <td>0.0</td>\n",
       "      <td>5</td>\n",
       "      <td>120</td>\n",
       "      <td>15</td>\n",
       "      <td>0</td>\n",
       "      <td>14</td>\n",
       "      <td>10.0</td>\n",
       "      <td>15%</td>\n",
       "      <td>0%</td>\n",
       "      <td>30%</td>\n",
       "      <td>0%</td>\n",
       "      <td>75</td>\n",
       "    </tr>\n",
       "    <tr>\n",
       "      <th>8</th>\n",
       "      <td>Classic Espresso Drinks</td>\n",
       "      <td>Caffè Latte</td>\n",
       "      <td>2% Milk</td>\n",
       "      <td>150</td>\n",
       "      <td>6</td>\n",
       "      <td>3.0</td>\n",
       "      <td>0.2</td>\n",
       "      <td>25</td>\n",
       "      <td>135</td>\n",
       "      <td>15</td>\n",
       "      <td>0</td>\n",
       "      <td>14</td>\n",
       "      <td>10.0</td>\n",
       "      <td>15%</td>\n",
       "      <td>0%</td>\n",
       "      <td>30%</td>\n",
       "      <td>0%</td>\n",
       "      <td>75</td>\n",
       "    </tr>\n",
       "  </tbody>\n",
       "</table>\n",
       "</div>"
      ],
      "text/plain": [
       "         Beverage_category     Beverage      Beverage_prep  Calories  \\\n",
       "4  Classic Espresso Drinks  Caffè Latte  Short Nonfat Milk        70   \n",
       "5  Classic Espresso Drinks  Caffè Latte            2% Milk       100   \n",
       "6  Classic Espresso Drinks  Caffè Latte            Soymilk        70   \n",
       "7  Classic Espresso Drinks  Caffè Latte   Tall Nonfat Milk       100   \n",
       "8  Classic Espresso Drinks  Caffè Latte            2% Milk       150   \n",
       "\n",
       "   Total Fat (g)  Trans Fat (g)   Saturated Fat (g)   Sodium (mg)  \\\n",
       "4            0.1             0.1                0.0             5   \n",
       "5            3.5             2.0                0.1            15   \n",
       "6            2.5             0.4                0.0             0   \n",
       "7            0.2             0.2                0.0             5   \n",
       "8              6             3.0                0.2            25   \n",
       "\n",
       "    Total Carbohydrates (g)   Cholesterol (mg)   Dietary Fibre (g)  \\\n",
       "4                         75                10                   0   \n",
       "5                         85                10                   0   \n",
       "6                         65                 6                   1   \n",
       "7                        120                15                   0   \n",
       "8                        135                15                   0   \n",
       "\n",
       "    Sugars (g)   Protein (g)  Vitamin A (% DV)  Vitamin C (% DV)  \\\n",
       "4            9            6.0               10%               0%   \n",
       "5            9            6.0               10%               0%   \n",
       "6            4            5.0                6%               0%   \n",
       "7           14           10.0               15%               0%   \n",
       "8           14           10.0               15%               0%   \n",
       "\n",
       "   Calcium (% DV)  Iron (% DV)  Caffeine (mg)  \n",
       "4              20%           0%            75  \n",
       "5              20%           0%            75  \n",
       "6              20%           8%            75  \n",
       "7              30%           0%            75  \n",
       "8              30%           0%            75  "
      ]
     },
     "execution_count": 38,
     "metadata": {},
     "output_type": "execute_result"
    }
   ],
   "source": [
    "#extract classic espress drinks from Beverage_category\n",
    "classic = df.loc[(df['Beverage_category'] == 'Classic Espresso Drinks')]\n",
    "classic.head()"
   ]
  },
  {
   "cell_type": "code",
   "execution_count": 39,
   "metadata": {
    "execution": {
     "iopub.execute_input": "2021-01-05T15:24:38.491981Z",
     "iopub.status.busy": "2021-01-05T15:24:38.487940Z",
     "iopub.status.idle": "2021-01-05T15:24:38.953428Z",
     "shell.execute_reply": "2021-01-05T15:24:38.954878Z"
    },
    "papermill": {
     "duration": 0.548802,
     "end_time": "2021-01-05T15:24:38.955069",
     "exception": false,
     "start_time": "2021-01-05T15:24:38.406267",
     "status": "completed"
    },
    "tags": []
   },
   "outputs": [
    {
     "data": {
      "image/png": "[encoded data removed]",
      "text/plain": [
       "<Figure size 432x288 with 1 Axes>"
      ]
     },
     "metadata": {
      "needs_background": "light"
     },
     "output_type": "display_data"
    }
   ],
   "source": [
    "# data visualization to see which classic espresso drink has the highest calories\n",
    "# Sort the 'classic' DataFrame by the 'Calories' column in descending order\n",
    "classic_sorted = classic.sort_values(by='Calories', ascending=False)\n",
    "\n",
    "# Create a bar plot with the sorted data\n",
    "sns.barplot(x=\"Beverage\", y=\"Calories\", data=classic_sorted)\n",
    "plt.xticks(rotation=30, ha='right')\n",
    "plt.title(\"Starbucks Classic Espresso Drinks Calories\")\n",
    "plt.show()"
   ]
  },
  {
   "cell_type": "markdown",
   "metadata": {
    "papermill": {
     "duration": 0.069658,
     "end_time": "2021-01-05T15:24:39.093851",
     "exception": false,
     "start_time": "2021-01-05T15:24:39.024193",
     "status": "completed"
    },
    "tags": []
   },
   "source": [
    "* Caffe Mocha (without whipped cream) has the highest kcal, followed by vanilla latte(or other flavoured latte) from the Starbucks classic espresso drinks."
   ]
  },
  {
   "cell_type": "markdown",
   "metadata": {
    "papermill": {
     "duration": 0.076613,
     "end_time": "2021-01-05T15:24:43.423613",
     "exception": false,
     "start_time": "2021-01-05T15:24:43.347000",
     "status": "completed"
    },
    "tags": []
   },
   "source": [
    "## Q3. Signature vs Tazo® Tea Drinks calories"
   ]
  },
  {
   "cell_type": "code",
   "execution_count": 51,
   "metadata": {
    "execution": {
     "iopub.execute_input": "2021-01-05T15:24:43.608479Z",
     "iopub.status.busy": "2021-01-05T15:24:43.607255Z",
     "iopub.status.idle": "2021-01-05T15:24:43.967821Z",
     "shell.execute_reply": "2021-01-05T15:24:43.967183Z"
    },
    "papermill": {
     "duration": 0.466486,
     "end_time": "2021-01-05T15:24:43.967944",
     "exception": false,
     "start_time": "2021-01-05T15:24:43.501458",
     "status": "completed"
    },
    "scrolled": false,
    "tags": []
   },
   "outputs": [
    {
     "data": {
      "text/plain": [
       "Text(0.5, 1.0, 'Tazo® Tea Drinks')"
      ]
     },
     "execution_count": 51,
     "metadata": {},
     "output_type": "execute_result"
    },
    {
     "data": {
      "image/png": "[encoded data removed]",
      "text/plain": [
       "<Figure size 864x360 with 2 Axes>"
      ]
     },
     "metadata": {
      "needs_background": "light"
     },
     "output_type": "display_data"
    }
   ],
   "source": [
    "# We want to compare the calories between Signature Espresso Drinks vs Tazo® Tea Drinks\n",
    "\n",
    "figure, (ax1, ax2) = plt.subplots(ncols=2)\n",
    "\n",
    "figure.set_size_inches(12,5)\n",
    "sns.distplot(df['Calories'].loc[df['Beverage_category'] == 'Signature Espresso Drinks'],\n",
    "             norm_hist=False, color=sns.color_palette(\"Paired\")[3], ax=ax1)\n",
    "ax1.set_title('Signature Espresso Drinks')\n",
    "\n",
    "figure.set_size_inches(12,5)\n",
    "sns.distplot(df['Calories'].loc[df['Beverage_category'] == 'Tazo® Tea Drinks'],\n",
    "             norm_hist=False, color=sns.color_palette(\"Paired\")[2], ax=ax2)\n",
    "ax2.set_title('Tazo® Tea Drinks')"
   ]
  },
  {
   "cell_type": "markdown",
   "metadata": {},
   "source": [
    "For the \"Signature Espresso Drinks,\" the plot suggests a distribution that peaks around the lower calorie range, indicating that most of these drinks are likely to be lower in calories, with fewer drinks having higher calorie counts.\n",
    "\n",
    "On the other hand, the \"Tazo® Tea Drinks\" plot also peaks at a lower calorie range but has a slightly wider spread, which might imply a broader range of calorie values in these drinks."
   ]
  },
  {
   "cell_type": "code",
   "execution_count": 54,
   "metadata": {
    "execution": {
     "iopub.execute_input": "2021-01-05T15:24:44.137739Z",
     "iopub.status.busy": "2021-01-05T15:24:44.137028Z",
     "iopub.status.idle": "2021-01-05T15:24:44.166206Z",
     "shell.execute_reply": "2021-01-05T15:24:44.164963Z"
    },
    "papermill": {
     "duration": 0.118285,
     "end_time": "2021-01-05T15:24:44.166327",
     "exception": false,
     "start_time": "2021-01-05T15:24:44.048042",
     "status": "completed"
    },
    "tags": []
   },
   "outputs": [
    {
     "data": {
      "text/html": [
       "<div>\n",
       "<style scoped>\n",
       "    .dataframe tbody tr th:only-of-type {\n",
       "        vertical-align: middle;\n",
       "    }\n",
       "\n",
       "    .dataframe tbody tr th {\n",
       "        vertical-align: top;\n",
       "    }\n",
       "\n",
       "    .dataframe thead th {\n",
       "        text-align: right;\n",
       "    }\n",
       "</style>\n",
       "<table border=\"1\" class=\"dataframe\">\n",
       "  <thead>\n",
       "    <tr style=\"text-align: right;\">\n",
       "      <th></th>\n",
       "      <th>Beverage_category</th>\n",
       "      <th>Beverage</th>\n",
       "      <th>Calories</th>\n",
       "      <th>Total Fat (g)</th>\n",
       "      <th>Trans Fat (g)</th>\n",
       "      <th>Saturated Fat (g)</th>\n",
       "      <th>Sodium (mg)</th>\n",
       "      <th>Total Carbohydrates (g)</th>\n",
       "      <th>Cholesterol (mg)</th>\n",
       "      <th>Dietary Fibre (g)</th>\n",
       "      <th>Sugars (g)</th>\n",
       "      <th>Protein (g)</th>\n",
       "      <th>Vitamin A (% DV)</th>\n",
       "      <th>Vitamin C (% DV)</th>\n",
       "      <th>Calcium (% DV)</th>\n",
       "      <th>Iron (% DV)</th>\n",
       "      <th>Caffeine (mg)</th>\n",
       "    </tr>\n",
       "    <tr>\n",
       "      <th>Beverage_prep</th>\n",
       "      <th></th>\n",
       "      <th></th>\n",
       "      <th></th>\n",
       "      <th></th>\n",
       "      <th></th>\n",
       "      <th></th>\n",
       "      <th></th>\n",
       "      <th></th>\n",
       "      <th></th>\n",
       "      <th></th>\n",
       "      <th></th>\n",
       "      <th></th>\n",
       "      <th></th>\n",
       "      <th></th>\n",
       "      <th></th>\n",
       "      <th></th>\n",
       "      <th></th>\n",
       "    </tr>\n",
       "  </thead>\n",
       "  <tbody>\n",
       "    <tr>\n",
       "      <th>2% Milk</th>\n",
       "      <td>49</td>\n",
       "      <td>49</td>\n",
       "      <td>49</td>\n",
       "      <td>49</td>\n",
       "      <td>49</td>\n",
       "      <td>49</td>\n",
       "      <td>49</td>\n",
       "      <td>49</td>\n",
       "      <td>49</td>\n",
       "      <td>49</td>\n",
       "      <td>49</td>\n",
       "      <td>49</td>\n",
       "      <td>49</td>\n",
       "      <td>49</td>\n",
       "      <td>49</td>\n",
       "      <td>49</td>\n",
       "      <td>49</td>\n",
       "    </tr>\n",
       "    <tr>\n",
       "      <th>Doppio</th>\n",
       "      <td>1</td>\n",
       "      <td>1</td>\n",
       "      <td>1</td>\n",
       "      <td>1</td>\n",
       "      <td>1</td>\n",
       "      <td>1</td>\n",
       "      <td>1</td>\n",
       "      <td>1</td>\n",
       "      <td>1</td>\n",
       "      <td>1</td>\n",
       "      <td>1</td>\n",
       "      <td>1</td>\n",
       "      <td>1</td>\n",
       "      <td>1</td>\n",
       "      <td>1</td>\n",
       "      <td>1</td>\n",
       "      <td>1</td>\n",
       "    </tr>\n",
       "    <tr>\n",
       "      <th>Grande</th>\n",
       "      <td>7</td>\n",
       "      <td>7</td>\n",
       "      <td>7</td>\n",
       "      <td>7</td>\n",
       "      <td>7</td>\n",
       "      <td>7</td>\n",
       "      <td>7</td>\n",
       "      <td>7</td>\n",
       "      <td>7</td>\n",
       "      <td>7</td>\n",
       "      <td>7</td>\n",
       "      <td>7</td>\n",
       "      <td>7</td>\n",
       "      <td>7</td>\n",
       "      <td>7</td>\n",
       "      <td>7</td>\n",
       "      <td>7</td>\n",
       "    </tr>\n",
       "    <tr>\n",
       "      <th>Grande Nonfat Milk</th>\n",
       "      <td>26</td>\n",
       "      <td>26</td>\n",
       "      <td>26</td>\n",
       "      <td>26</td>\n",
       "      <td>26</td>\n",
       "      <td>26</td>\n",
       "      <td>26</td>\n",
       "      <td>26</td>\n",
       "      <td>26</td>\n",
       "      <td>26</td>\n",
       "      <td>26</td>\n",
       "      <td>26</td>\n",
       "      <td>26</td>\n",
       "      <td>26</td>\n",
       "      <td>26</td>\n",
       "      <td>26</td>\n",
       "      <td>26</td>\n",
       "    </tr>\n",
       "    <tr>\n",
       "      <th>Short</th>\n",
       "      <td>4</td>\n",
       "      <td>4</td>\n",
       "      <td>4</td>\n",
       "      <td>4</td>\n",
       "      <td>4</td>\n",
       "      <td>4</td>\n",
       "      <td>4</td>\n",
       "      <td>4</td>\n",
       "      <td>4</td>\n",
       "      <td>4</td>\n",
       "      <td>4</td>\n",
       "      <td>4</td>\n",
       "      <td>4</td>\n",
       "      <td>4</td>\n",
       "      <td>4</td>\n",
       "      <td>4</td>\n",
       "      <td>4</td>\n",
       "    </tr>\n",
       "    <tr>\n",
       "      <th>Short Nonfat Milk</th>\n",
       "      <td>12</td>\n",
       "      <td>12</td>\n",
       "      <td>12</td>\n",
       "      <td>12</td>\n",
       "      <td>12</td>\n",
       "      <td>12</td>\n",
       "      <td>12</td>\n",
       "      <td>12</td>\n",
       "      <td>12</td>\n",
       "      <td>12</td>\n",
       "      <td>12</td>\n",
       "      <td>12</td>\n",
       "      <td>12</td>\n",
       "      <td>12</td>\n",
       "      <td>12</td>\n",
       "      <td>12</td>\n",
       "      <td>12</td>\n",
       "    </tr>\n",
       "    <tr>\n",
       "      <th>Solo</th>\n",
       "      <td>1</td>\n",
       "      <td>1</td>\n",
       "      <td>1</td>\n",
       "      <td>1</td>\n",
       "      <td>1</td>\n",
       "      <td>1</td>\n",
       "      <td>1</td>\n",
       "      <td>1</td>\n",
       "      <td>1</td>\n",
       "      <td>1</td>\n",
       "      <td>1</td>\n",
       "      <td>1</td>\n",
       "      <td>1</td>\n",
       "      <td>1</td>\n",
       "      <td>1</td>\n",
       "      <td>1</td>\n",
       "      <td>1</td>\n",
       "    </tr>\n",
       "    <tr>\n",
       "      <th>Soymilk</th>\n",
       "      <td>66</td>\n",
       "      <td>66</td>\n",
       "      <td>66</td>\n",
       "      <td>66</td>\n",
       "      <td>66</td>\n",
       "      <td>66</td>\n",
       "      <td>66</td>\n",
       "      <td>66</td>\n",
       "      <td>66</td>\n",
       "      <td>66</td>\n",
       "      <td>66</td>\n",
       "      <td>66</td>\n",
       "      <td>66</td>\n",
       "      <td>66</td>\n",
       "      <td>66</td>\n",
       "      <td>66</td>\n",
       "      <td>66</td>\n",
       "    </tr>\n",
       "    <tr>\n",
       "      <th>Tall</th>\n",
       "      <td>7</td>\n",
       "      <td>7</td>\n",
       "      <td>7</td>\n",
       "      <td>7</td>\n",
       "      <td>7</td>\n",
       "      <td>7</td>\n",
       "      <td>7</td>\n",
       "      <td>7</td>\n",
       "      <td>7</td>\n",
       "      <td>7</td>\n",
       "      <td>7</td>\n",
       "      <td>7</td>\n",
       "      <td>7</td>\n",
       "      <td>7</td>\n",
       "      <td>7</td>\n",
       "      <td>7</td>\n",
       "      <td>7</td>\n",
       "    </tr>\n",
       "    <tr>\n",
       "      <th>Tall Nonfat Milk</th>\n",
       "      <td>23</td>\n",
       "      <td>23</td>\n",
       "      <td>23</td>\n",
       "      <td>23</td>\n",
       "      <td>23</td>\n",
       "      <td>23</td>\n",
       "      <td>23</td>\n",
       "      <td>23</td>\n",
       "      <td>23</td>\n",
       "      <td>23</td>\n",
       "      <td>23</td>\n",
       "      <td>23</td>\n",
       "      <td>23</td>\n",
       "      <td>23</td>\n",
       "      <td>23</td>\n",
       "      <td>23</td>\n",
       "      <td>23</td>\n",
       "    </tr>\n",
       "    <tr>\n",
       "      <th>Venti</th>\n",
       "      <td>7</td>\n",
       "      <td>7</td>\n",
       "      <td>7</td>\n",
       "      <td>7</td>\n",
       "      <td>7</td>\n",
       "      <td>7</td>\n",
       "      <td>7</td>\n",
       "      <td>7</td>\n",
       "      <td>7</td>\n",
       "      <td>7</td>\n",
       "      <td>7</td>\n",
       "      <td>7</td>\n",
       "      <td>7</td>\n",
       "      <td>7</td>\n",
       "      <td>7</td>\n",
       "      <td>7</td>\n",
       "      <td>7</td>\n",
       "    </tr>\n",
       "    <tr>\n",
       "      <th>Venti Nonfat Milk</th>\n",
       "      <td>22</td>\n",
       "      <td>22</td>\n",
       "      <td>22</td>\n",
       "      <td>22</td>\n",
       "      <td>22</td>\n",
       "      <td>22</td>\n",
       "      <td>22</td>\n",
       "      <td>22</td>\n",
       "      <td>22</td>\n",
       "      <td>22</td>\n",
       "      <td>22</td>\n",
       "      <td>22</td>\n",
       "      <td>22</td>\n",
       "      <td>22</td>\n",
       "      <td>22</td>\n",
       "      <td>22</td>\n",
       "      <td>22</td>\n",
       "    </tr>\n",
       "    <tr>\n",
       "      <th>Whole Milk</th>\n",
       "      <td>16</td>\n",
       "      <td>16</td>\n",
       "      <td>16</td>\n",
       "      <td>16</td>\n",
       "      <td>16</td>\n",
       "      <td>16</td>\n",
       "      <td>16</td>\n",
       "      <td>16</td>\n",
       "      <td>16</td>\n",
       "      <td>16</td>\n",
       "      <td>16</td>\n",
       "      <td>16</td>\n",
       "      <td>16</td>\n",
       "      <td>16</td>\n",
       "      <td>16</td>\n",
       "      <td>16</td>\n",
       "      <td>16</td>\n",
       "    </tr>\n",
       "  </tbody>\n",
       "</table>\n",
       "</div>"
      ],
      "text/plain": [
       "                    Beverage_category  Beverage  Calories   Total Fat (g)  \\\n",
       "Beverage_prep                                                               \n",
       "2% Milk                            49        49        49              49   \n",
       "Doppio                              1         1         1               1   \n",
       "Grande                              7         7         7               7   \n",
       "Grande Nonfat Milk                 26        26        26              26   \n",
       "Short                               4         4         4               4   \n",
       "Short Nonfat Milk                  12        12        12              12   \n",
       "Solo                                1         1         1               1   \n",
       "Soymilk                            66        66        66              66   \n",
       "Tall                                7         7         7               7   \n",
       "Tall Nonfat Milk                   23        23        23              23   \n",
       "Venti                               7         7         7               7   \n",
       "Venti Nonfat Milk                  22        22        22              22   \n",
       "Whole Milk                         16        16        16              16   \n",
       "\n",
       "                    Trans Fat (g)   Saturated Fat (g)   Sodium (mg)  \\\n",
       "Beverage_prep                                                         \n",
       "2% Milk                         49                 49            49   \n",
       "Doppio                           1                  1             1   \n",
       "Grande                           7                  7             7   \n",
       "Grande Nonfat Milk              26                 26            26   \n",
       "Short                            4                  4             4   \n",
       "Short Nonfat Milk               12                 12            12   \n",
       "Solo                             1                  1             1   \n",
       "Soymilk                         66                 66            66   \n",
       "Tall                             7                  7             7   \n",
       "Tall Nonfat Milk                23                 23            23   \n",
       "Venti                            7                  7             7   \n",
       "Venti Nonfat Milk               22                 22            22   \n",
       "Whole Milk                      16                 16            16   \n",
       "\n",
       "                     Total Carbohydrates (g)   Cholesterol (mg)  \\\n",
       "Beverage_prep                                                     \n",
       "2% Milk                                    49                49   \n",
       "Doppio                                      1                 1   \n",
       "Grande                                      7                 7   \n",
       "Grande Nonfat Milk                         26                26   \n",
       "Short                                       4                 4   \n",
       "Short Nonfat Milk                          12                12   \n",
       "Solo                                        1                 1   \n",
       "Soymilk                                    66                66   \n",
       "Tall                                        7                 7   \n",
       "Tall Nonfat Milk                           23                23   \n",
       "Venti                                       7                 7   \n",
       "Venti Nonfat Milk                          22                22   \n",
       "Whole Milk                                 16                16   \n",
       "\n",
       "                     Dietary Fibre (g)   Sugars (g)   Protein (g)   \\\n",
       "Beverage_prep                                                        \n",
       "2% Milk                             49           49             49   \n",
       "Doppio                               1            1              1   \n",
       "Grande                               7            7              7   \n",
       "Grande Nonfat Milk                  26           26             26   \n",
       "Short                                4            4              4   \n",
       "Short Nonfat Milk                   12           12             12   \n",
       "Solo                                 1            1              1   \n",
       "Soymilk                             66           66             66   \n",
       "Tall                                 7            7              7   \n",
       "Tall Nonfat Milk                    23           23             23   \n",
       "Venti                                7            7              7   \n",
       "Venti Nonfat Milk                   22           22             22   \n",
       "Whole Milk                          16           16             16   \n",
       "\n",
       "                    Vitamin A (% DV)   Vitamin C (% DV)   Calcium (% DV)   \\\n",
       "Beverage_prep                                                               \n",
       "2% Milk                            49                49                49   \n",
       "Doppio                              1                 1                 1   \n",
       "Grande                              7                 7                 7   \n",
       "Grande Nonfat Milk                 26                26                26   \n",
       "Short                               4                 4                 4   \n",
       "Short Nonfat Milk                  12                12                12   \n",
       "Solo                                1                 1                 1   \n",
       "Soymilk                            66                66                66   \n",
       "Tall                                7                 7                 7   \n",
       "Tall Nonfat Milk                   23                23                23   \n",
       "Venti                               7                 7                 7   \n",
       "Venti Nonfat Milk                  22                22                22   \n",
       "Whole Milk                         16                16                16   \n",
       "\n",
       "                    Iron (% DV)   Caffeine (mg)  \n",
       "Beverage_prep                                    \n",
       "2% Milk                       49             49  \n",
       "Doppio                         1              1  \n",
       "Grande                         7              7  \n",
       "Grande Nonfat Milk            26             26  \n",
       "Short                          4              4  \n",
       "Short Nonfat Milk             12             12  \n",
       "Solo                           1              1  \n",
       "Soymilk                       66             66  \n",
       "Tall                           7              7  \n",
       "Tall Nonfat Milk              23             23  \n",
       "Venti                          7              7  \n",
       "Venti Nonfat Milk             22             22  \n",
       "Whole Milk                    16             16  "
      ]
     },
     "execution_count": 54,
     "metadata": {},
     "output_type": "execute_result"
    }
   ],
   "source": [
    "df.groupby('Beverage_prep').count()"
   ]
  },
  {
   "cell_type": "markdown",
   "metadata": {
    "papermill": {
     "duration": 0.08279,
     "end_time": "2021-01-05T15:24:44.318849",
     "exception": false,
     "start_time": "2021-01-05T15:24:44.236059",
     "status": "completed"
    },
    "tags": []
   },
   "source": [
    "## Q4. Plot Historgram "
   ]
  },
  {
   "cell_type": "code",
   "execution_count": 55,
   "metadata": {
    "execution": {
     "iopub.execute_input": "2021-01-05T15:24:44.493212Z",
     "iopub.status.busy": "2021-01-05T15:24:44.492451Z",
     "iopub.status.idle": "2021-01-05T15:24:44.674539Z",
     "shell.execute_reply": "2021-01-05T15:24:44.673817Z"
    },
    "papermill": {
     "duration": 0.27312,
     "end_time": "2021-01-05T15:24:44.674657",
     "exception": false,
     "start_time": "2021-01-05T15:24:44.401537",
     "status": "completed"
    },
    "tags": []
   },
   "outputs": [
    {
     "data": {
      "text/plain": [
       "Text(0, 0.5, 'Count')"
      ]
     },
     "execution_count": 55,
     "metadata": {},
     "output_type": "execute_result"
    },
    {
     "data": {
      "image/png": "[encoded data removed]",
      "text/plain": [
       "<Figure size 432x288 with 1 Axes>"
      ]
     },
     "metadata": {
      "needs_background": "light"
     },
     "output_type": "display_data"
    }
   ],
   "source": [
    "#plot a historgram of calories data\n",
    "calories = df[\"Calories\"]\n",
    "plt.hist(calories, bins=9, edgecolor = \"black\", color = \"lightgreen\")\n",
    "plt.title(\"Calories in Starbucks Menu Items\")\n",
    "plt.xlabel(\"Calories in kcal\")\n",
    "plt.ylabel(\"Count\")"
   ]
  },
  {
   "cell_type": "code",
   "execution_count": 56,
   "metadata": {
    "execution": {
     "iopub.execute_input": "2021-01-05T15:24:44.845841Z",
     "iopub.status.busy": "2021-01-05T15:24:44.845104Z",
     "iopub.status.idle": "2021-01-05T15:24:45.061448Z",
     "shell.execute_reply": "2021-01-05T15:24:45.060726Z"
    },
    "papermill": {
     "duration": 0.306436,
     "end_time": "2021-01-05T15:24:45.061567",
     "exception": false,
     "start_time": "2021-01-05T15:24:44.755131",
     "status": "completed"
    },
    "tags": []
   },
   "outputs": [
    {
     "data": {
      "text/plain": [
       "Text(0, 0.5, 'Count')"
      ]
     },
     "execution_count": 56,
     "metadata": {},
     "output_type": "execute_result"
    },
    {
     "data": {
      "image/png": "[encoded data removed]",
      "text/plain": [
       "<Figure size 432x288 with 1 Axes>"
      ]
     },
     "metadata": {
      "needs_background": "light"
     },
     "output_type": "display_data"
    }
   ],
   "source": [
    "#plot a historgram of total fag(g) data\n",
    "fat = df[\" Total Fat (g)\"]\n",
    "plt.hist(fat, bins=9, edgecolor = \"black\", color = \"green\")\n",
    "plt.title(\"Fat in Starbucks Menu Items\")\n",
    "plt.xlabel(\"Fat in kcal\")\n",
    "plt.ylabel(\"Count\")"
   ]
  },
  {
   "cell_type": "code",
   "execution_count": 57,
   "metadata": {
    "execution": {
     "iopub.execute_input": "2021-01-05T15:24:45.252541Z",
     "iopub.status.busy": "2021-01-05T15:24:45.241702Z",
     "iopub.status.idle": "2021-01-05T15:24:45.423288Z",
     "shell.execute_reply": "2021-01-05T15:24:45.423820Z"
    },
    "papermill": {
     "duration": 0.278308,
     "end_time": "2021-01-05T15:24:45.423977",
     "exception": false,
     "start_time": "2021-01-05T15:24:45.145669",
     "status": "completed"
    },
    "tags": []
   },
   "outputs": [
    {
     "data": {
      "text/plain": [
       "Text(0, 0.5, 'Count')"
      ]
     },
     "execution_count": 57,
     "metadata": {},
     "output_type": "execute_result"
    },
    {
     "data": {
      "image/png": "[encoded data removed]",
      "text/plain": [
       "<Figure size 432x288 with 1 Axes>"
      ]
     },
     "metadata": {
      "needs_background": "light"
     },
     "output_type": "display_data"
    }
   ],
   "source": [
    "#plot a historgram of sugar data\n",
    "fat = df[\" Sugars (g)\"]\n",
    "plt.hist(fat, bins=9, edgecolor = \"black\", color = \"lightgreen\")\n",
    "plt.title(\"Sugars in Starbucks Menu Items\")\n",
    "plt.xlabel(\"Sugar in g\")\n",
    "plt.ylabel(\"Count\")"
   ]
  },
  {
   "cell_type": "code",
   "execution_count": 58,
   "metadata": {
    "execution": {
     "iopub.execute_input": "2021-01-05T15:24:45.599041Z",
     "iopub.status.busy": "2021-01-05T15:24:45.598190Z",
     "iopub.status.idle": "2021-01-05T15:24:45.818428Z",
     "shell.execute_reply": "2021-01-05T15:24:45.817259Z"
    },
    "papermill": {
     "duration": 0.312165,
     "end_time": "2021-01-05T15:24:45.818603",
     "exception": false,
     "start_time": "2021-01-05T15:24:45.506438",
     "status": "completed"
    },
    "tags": []
   },
   "outputs": [
    {
     "data": {
      "text/plain": [
       "Text(0, 0.5, 'Count')"
      ]
     },
     "execution_count": 58,
     "metadata": {},
     "output_type": "execute_result"
    },
    {
     "data": {
      "image/png": "[encoded data removed]",
      "text/plain": [
       "<Figure size 432x288 with 1 Axes>"
      ]
     },
     "metadata": {
      "needs_background": "light"
     },
     "output_type": "display_data"
    }
   ],
   "source": [
    "# plot a historgram of choresterol data\n",
    "# histogram\n",
    "fat = df[\" Total Fat (g)\"]\n",
    "plt.hist(fat, bins=9, edgecolor = \"black\", color = \"green\")\n",
    "plt.title(\"Cholesterol in Starbucks Menu Items\") # add a title\n",
    "plt.xlabel(\"Cholesterol in mg\")\n",
    "plt.ylabel(\"Count\")"
   ]
  },
  {
   "cell_type": "markdown",
   "metadata": {
    "papermill": {
     "duration": 0.119077,
     "end_time": "2021-01-05T15:24:46.053869",
     "exception": false,
     "start_time": "2021-01-05T15:24:45.934792",
     "status": "completed"
    },
    "tags": []
   },
   "source": [
    "## Q5. Correlation between Different Variables"
   ]
  },
  {
   "cell_type": "markdown",
   "metadata": {
    "papermill": {
     "duration": 0.115586,
     "end_time": "2021-01-05T15:24:46.287626",
     "exception": false,
     "start_time": "2021-01-05T15:24:46.172040",
     "status": "completed"
    },
    "tags": []
   },
   "source": [
    "### * Correlation between Calories vs Sugars (g)"
   ]
  },
  {
   "cell_type": "code",
   "execution_count": 61,
   "metadata": {
    "execution": {
     "iopub.execute_input": "2021-01-05T15:24:46.531145Z",
     "iopub.status.busy": "2021-01-05T15:24:46.530259Z",
     "iopub.status.idle": "2021-01-05T15:24:46.869869Z",
     "shell.execute_reply": "2021-01-05T15:24:46.868606Z"
    },
    "papermill": {
     "duration": 0.467453,
     "end_time": "2021-01-05T15:24:46.869987",
     "exception": false,
     "start_time": "2021-01-05T15:24:46.402534",
     "status": "completed"
    },
    "tags": []
   },
   "outputs": [
    {
     "data": {
      "text/plain": [
       "<matplotlib.legend.Legend at 0x195271ac310>"
      ]
     },
     "execution_count": 61,
     "metadata": {},
     "output_type": "execute_result"
    },
    {
     "data": {
      "image/png": "[encoded data removed]",
      "text/plain": [
       "<Figure size 432x288 with 1 Axes>"
      ]
     },
     "metadata": {
      "needs_background": "light"
     },
     "output_type": "display_data"
    }
   ],
   "source": [
    "# Calories vs Sugars (g)\n",
    "sns.scatterplot(data=df, x=\"Calories\", y=\" Sugars (g)\", hue=\"Beverage_category\")\n",
    "plt.legend(bbox_to_anchor=(1.15, -0.15), ncol= 2)"
   ]
  },
  {
   "cell_type": "markdown",
   "metadata": {
    "papermill": {
     "duration": 0.098975,
     "end_time": "2021-01-05T15:24:47.055244",
     "exception": false,
     "start_time": "2021-01-05T15:24:46.956269",
     "status": "completed"
    },
    "tags": []
   },
   "source": [
    "* There is correlation between calories and sugars. "
   ]
  },
  {
   "cell_type": "markdown",
   "metadata": {
    "papermill": {
     "duration": 0.117885,
     "end_time": "2021-01-05T15:24:47.296038",
     "exception": false,
     "start_time": "2021-01-05T15:24:47.178153",
     "status": "completed"
    },
    "tags": []
   },
   "source": [
    "### * Correlation between Calories vs Total Carbohydrates (g)"
   ]
  },
  {
   "cell_type": "code",
   "execution_count": 62,
   "metadata": {
    "execution": {
     "iopub.execute_input": "2021-01-05T15:24:47.543529Z",
     "iopub.status.busy": "2021-01-05T15:24:47.542549Z",
     "iopub.status.idle": "2021-01-05T15:24:47.923243Z",
     "shell.execute_reply": "2021-01-05T15:24:47.922472Z"
    },
    "papermill": {
     "duration": 0.509847,
     "end_time": "2021-01-05T15:24:47.923376",
     "exception": false,
     "start_time": "2021-01-05T15:24:47.413529",
     "status": "completed"
    },
    "tags": []
   },
   "outputs": [
    {
     "data": {
      "image/png": "[encoded data removed]",
      "text/plain": [
       "<Figure size 432x288 with 1 Axes>"
      ]
     },
     "metadata": {
      "needs_background": "light"
     },
     "output_type": "display_data"
    }
   ],
   "source": [
    "# Calories vs Total Carbohydrates\n",
    "sns.scatterplot(data=df, x=\"Calories\", y=\" Total Carbohydrates (g) \",hue=\"Beverage_category\")\n",
    "plt.legend(bbox_to_anchor=(1.15, -0.15), ncol= 2)\n",
    "plt.show()"
   ]
  },
  {
   "cell_type": "markdown",
   "metadata": {
    "papermill": {
     "duration": 0.108551,
     "end_time": "2021-01-05T15:24:48.150950",
     "exception": false,
     "start_time": "2021-01-05T15:24:48.042399",
     "status": "completed"
    },
    "tags": []
   },
   "source": [
    "* There is correlation between calories and total carbohydrates "
   ]
  },
  {
   "cell_type": "markdown",
   "metadata": {
    "papermill": {
     "duration": 0.122476,
     "end_time": "2021-01-05T15:24:48.391481",
     "exception": false,
     "start_time": "2021-01-05T15:24:48.269005",
     "status": "completed"
    },
    "tags": []
   },
   "source": [
    "### * Calories vs Total Fat (g)"
   ]
  },
  {
   "cell_type": "code",
   "execution_count": 63,
   "metadata": {
    "execution": {
     "iopub.execute_input": "2021-01-05T15:24:48.646189Z",
     "iopub.status.busy": "2021-01-05T15:24:48.642705Z",
     "iopub.status.idle": "2021-01-05T15:24:49.055410Z",
     "shell.execute_reply": "2021-01-05T15:24:49.055999Z"
    },
    "papermill": {
     "duration": 0.545852,
     "end_time": "2021-01-05T15:24:49.056351",
     "exception": false,
     "start_time": "2021-01-05T15:24:48.510499",
     "status": "completed"
    },
    "tags": []
   },
   "outputs": [
    {
     "data": {
      "image/png": "[encoded data removed]",
      "text/plain": [
       "<Figure size 576x432 with 1 Axes>"
      ]
     },
     "metadata": {
      "needs_background": "light"
     },
     "output_type": "display_data"
    }
   ],
   "source": [
    "# Calories vs Total Fat (g)\n",
    "plt.figure(figsize=(8,6))\n",
    "sns.scatterplot(data=df, x=\"Calories\", y=\" Total Fat (g)\", hue=\"Beverage_category\")\n",
    "plt.legend(bbox_to_anchor=(0.95, -0.15), ncol= 2)\n",
    "plt.show()"
   ]
  },
  {
   "cell_type": "markdown",
   "metadata": {
    "papermill": {
     "duration": 0.098922,
     "end_time": "2021-01-05T15:24:49.242819",
     "exception": false,
     "start_time": "2021-01-05T15:24:49.143897",
     "status": "completed"
    },
    "tags": []
   },
   "source": [
    "* It's interesting to see that there isn't much correlation between calories and total fat(g) compare to calories vs sugars(g) and caloreis vs cholresterol"
   ]
  },
  {
   "cell_type": "code",
   "execution_count": 64,
   "metadata": {
    "execution": {
     "iopub.execute_input": "2021-01-05T15:24:49.446826Z",
     "iopub.status.busy": "2021-01-05T15:24:49.434336Z",
     "iopub.status.idle": "2021-01-05T15:24:50.265765Z",
     "shell.execute_reply": "2021-01-05T15:24:50.265199Z"
    },
    "papermill": {
     "duration": 0.930666,
     "end_time": "2021-01-05T15:24:50.265880",
     "exception": false,
     "start_time": "2021-01-05T15:24:49.335214",
     "status": "completed"
    },
    "tags": []
   },
   "outputs": [
    {
     "data": {
      "text/plain": [
       "<Axes: xlabel='Calories', ylabel=' Total Fat (g)'>"
      ]
     },
     "execution_count": 64,
     "metadata": {},
     "output_type": "execute_result"
    },
    {
     "data": {
      "image/png": "[encoded data removed]",
      "text/plain": [
       "<Figure size 432x288 with 1 Axes>"
      ]
     },
     "metadata": {
      "needs_background": "light"
     },
     "output_type": "display_data"
    }
   ],
   "source": [
    "sns.barplot(data=df, x=\"Calories\", y=\" Total Fat (g)\")"
   ]
  },
  {
   "cell_type": "code",
   "execution_count": 65,
   "metadata": {
    "execution": {
     "iopub.execute_input": "2021-01-05T15:24:50.465740Z",
     "iopub.status.busy": "2021-01-05T15:24:50.457934Z",
     "iopub.status.idle": "2021-01-05T15:24:50.665815Z",
     "shell.execute_reply": "2021-01-05T15:24:50.665239Z"
    },
    "papermill": {
     "duration": 0.308187,
     "end_time": "2021-01-05T15:24:50.665928",
     "exception": false,
     "start_time": "2021-01-05T15:24:50.357741",
     "status": "completed"
    },
    "tags": []
   },
   "outputs": [
    {
     "data": {
      "text/plain": [
       "<Axes: xlabel='count', ylabel='Beverage_prep'>"
      ]
     },
     "execution_count": 65,
     "metadata": {},
     "output_type": "execute_result"
    },
    {
     "data": {
      "image/png": "[encoded data removed]",
      "text/plain": [
       "<Figure size 432x288 with 1 Axes>"
      ]
     },
     "metadata": {
      "needs_background": "light"
     },
     "output_type": "display_data"
    }
   ],
   "source": [
    "sns.countplot(y=\"Beverage_prep\", data=df)"
   ]
  },
  {
   "cell_type": "markdown",
   "metadata": {
    "papermill": {
     "duration": 0.131464,
     "end_time": "2021-01-05T15:24:50.924697",
     "exception": false,
     "start_time": "2021-01-05T15:24:50.793233",
     "status": "completed"
    },
    "tags": []
   },
   "source": [
    "### * Drop Irrevelant Columns "
   ]
  },
  {
   "cell_type": "code",
   "execution_count": 67,
   "metadata": {
    "execution": {
     "iopub.execute_input": "2021-01-05T15:24:51.171538Z",
     "iopub.status.busy": "2021-01-05T15:24:51.170321Z",
     "iopub.status.idle": "2021-01-05T15:24:51.183906Z",
     "shell.execute_reply": "2021-01-05T15:24:51.184881Z"
    },
    "papermill": {
     "duration": 0.158044,
     "end_time": "2021-01-05T15:24:51.185070",
     "exception": false,
     "start_time": "2021-01-05T15:24:51.027026",
     "status": "completed"
    },
    "tags": []
   },
   "outputs": [
    {
     "data": {
      "text/html": [
       "<div>\n",
       "<style scoped>\n",
       "    .dataframe tbody tr th:only-of-type {\n",
       "        vertical-align: middle;\n",
       "    }\n",
       "\n",
       "    .dataframe tbody tr th {\n",
       "        vertical-align: top;\n",
       "    }\n",
       "\n",
       "    .dataframe thead th {\n",
       "        text-align: right;\n",
       "    }\n",
       "</style>\n",
       "<table border=\"1\" class=\"dataframe\">\n",
       "  <thead>\n",
       "    <tr style=\"text-align: right;\">\n",
       "      <th></th>\n",
       "      <th>Beverage_category</th>\n",
       "      <th>Beverage</th>\n",
       "      <th>Calories</th>\n",
       "      <th>Total Fat (g)</th>\n",
       "      <th>Cholesterol (mg)</th>\n",
       "      <th>Sugars (g)</th>\n",
       "      <th>Iron (% DV)</th>\n",
       "    </tr>\n",
       "  </thead>\n",
       "  <tbody>\n",
       "    <tr>\n",
       "      <th>0</th>\n",
       "      <td>Coffee</td>\n",
       "      <td>Brewed Coffee</td>\n",
       "      <td>3</td>\n",
       "      <td>0.1</td>\n",
       "      <td>0</td>\n",
       "      <td>0</td>\n",
       "      <td>0%</td>\n",
       "    </tr>\n",
       "    <tr>\n",
       "      <th>1</th>\n",
       "      <td>Coffee</td>\n",
       "      <td>Brewed Coffee</td>\n",
       "      <td>4</td>\n",
       "      <td>0.1</td>\n",
       "      <td>0</td>\n",
       "      <td>0</td>\n",
       "      <td>0%</td>\n",
       "    </tr>\n",
       "    <tr>\n",
       "      <th>2</th>\n",
       "      <td>Coffee</td>\n",
       "      <td>Brewed Coffee</td>\n",
       "      <td>5</td>\n",
       "      <td>0.1</td>\n",
       "      <td>0</td>\n",
       "      <td>0</td>\n",
       "      <td>0%</td>\n",
       "    </tr>\n",
       "    <tr>\n",
       "      <th>3</th>\n",
       "      <td>Coffee</td>\n",
       "      <td>Brewed Coffee</td>\n",
       "      <td>5</td>\n",
       "      <td>0.1</td>\n",
       "      <td>0</td>\n",
       "      <td>0</td>\n",
       "      <td>0%</td>\n",
       "    </tr>\n",
       "    <tr>\n",
       "      <th>4</th>\n",
       "      <td>Classic Espresso Drinks</td>\n",
       "      <td>Caffè Latte</td>\n",
       "      <td>70</td>\n",
       "      <td>0.1</td>\n",
       "      <td>10</td>\n",
       "      <td>9</td>\n",
       "      <td>0%</td>\n",
       "    </tr>\n",
       "  </tbody>\n",
       "</table>\n",
       "</div>"
      ],
      "text/plain": [
       "         Beverage_category       Beverage  Calories  Total Fat (g)  \\\n",
       "0                   Coffee  Brewed Coffee         3            0.1   \n",
       "1                   Coffee  Brewed Coffee         4            0.1   \n",
       "2                   Coffee  Brewed Coffee         5            0.1   \n",
       "3                   Coffee  Brewed Coffee         5            0.1   \n",
       "4  Classic Espresso Drinks    Caffè Latte        70            0.1   \n",
       "\n",
       "   Cholesterol (mg)   Sugars (g) Iron (% DV)   \n",
       "0                 0            0           0%  \n",
       "1                 0            0           0%  \n",
       "2                 0            0           0%  \n",
       "3                 0            0           0%  \n",
       "4                10            9           0%  "
      ]
     },
     "execution_count": 67,
     "metadata": {},
     "output_type": "execute_result"
    }
   ],
   "source": [
    "dfcopy = df.copy()\n",
    "dfcopy\n",
    "dfcopy.drop(['Beverage_prep','Trans Fat (g) ', 'Saturated Fat (g)', ' Sodium (mg)',' Total Carbohydrates (g) ', ' Dietary Fibre (g)', ' Protein (g) ', 'Vitamin A (% DV) ', 'Vitamin C (% DV)',\n",
    "       ' Calcium (% DV) ', 'Caffeine (mg)'], axis=1, inplace=True)\n",
    "# examing the changes\n",
    "dfcopy.head()"
   ]
  },
  {
   "cell_type": "markdown",
   "metadata": {
    "papermill": {
     "duration": 0.125786,
     "end_time": "2021-01-05T15:24:51.436827",
     "exception": false,
     "start_time": "2021-01-05T15:24:51.311041",
     "status": "completed"
    },
    "tags": []
   },
   "source": [
    "### * Encode the input variables"
   ]
  },
  {
   "cell_type": "code",
   "execution_count": 68,
   "metadata": {
    "execution": {
     "iopub.execute_input": "2021-01-05T15:24:51.741513Z",
     "iopub.status.busy": "2021-01-05T15:24:51.739554Z",
     "iopub.status.idle": "2021-01-05T15:24:51.745906Z",
     "shell.execute_reply": "2021-01-05T15:24:51.744911Z"
    },
    "papermill": {
     "duration": 0.180672,
     "end_time": "2021-01-05T15:24:51.746070",
     "exception": false,
     "start_time": "2021-01-05T15:24:51.565398",
     "status": "completed"
    },
    "tags": []
   },
   "outputs": [],
   "source": [
    "#Encode the input variables\n",
    "def Encode(dfcopy):\n",
    "    for column in dfcopy.columns[dfcopy.columns.isin(['Beverage_categry', 'Beverage'])]:\n",
    "        dfcopy[column] = dfcopy[column].factorize()[0]\n",
    "    return dfcopy\n",
    "\n",
    "df_en = Encode(dfcopy.copy())"
   ]
  },
  {
   "cell_type": "code",
   "execution_count": 69,
   "metadata": {
    "execution": {
     "iopub.execute_input": "2021-01-05T15:24:52.047432Z",
     "iopub.status.busy": "2021-01-05T15:24:52.046493Z",
     "iopub.status.idle": "2021-01-05T15:24:52.052497Z",
     "shell.execute_reply": "2021-01-05T15:24:52.051603Z"
    },
    "papermill": {
     "duration": 0.167978,
     "end_time": "2021-01-05T15:24:52.052673",
     "exception": false,
     "start_time": "2021-01-05T15:24:51.884695",
     "status": "completed"
    },
    "tags": []
   },
   "outputs": [
    {
     "data": {
      "text/html": [
       "<div>\n",
       "<style scoped>\n",
       "    .dataframe tbody tr th:only-of-type {\n",
       "        vertical-align: middle;\n",
       "    }\n",
       "\n",
       "    .dataframe tbody tr th {\n",
       "        vertical-align: top;\n",
       "    }\n",
       "\n",
       "    .dataframe thead th {\n",
       "        text-align: right;\n",
       "    }\n",
       "</style>\n",
       "<table border=\"1\" class=\"dataframe\">\n",
       "  <thead>\n",
       "    <tr style=\"text-align: right;\">\n",
       "      <th></th>\n",
       "      <th>Beverage_category</th>\n",
       "      <th>Beverage</th>\n",
       "      <th>Calories</th>\n",
       "      <th>Total Fat (g)</th>\n",
       "      <th>Cholesterol (mg)</th>\n",
       "      <th>Sugars (g)</th>\n",
       "      <th>Iron (% DV)</th>\n",
       "    </tr>\n",
       "  </thead>\n",
       "  <tbody>\n",
       "    <tr>\n",
       "      <th>0</th>\n",
       "      <td>Coffee</td>\n",
       "      <td>0</td>\n",
       "      <td>3</td>\n",
       "      <td>0.1</td>\n",
       "      <td>0</td>\n",
       "      <td>0</td>\n",
       "      <td>0%</td>\n",
       "    </tr>\n",
       "    <tr>\n",
       "      <th>1</th>\n",
       "      <td>Coffee</td>\n",
       "      <td>0</td>\n",
       "      <td>4</td>\n",
       "      <td>0.1</td>\n",
       "      <td>0</td>\n",
       "      <td>0</td>\n",
       "      <td>0%</td>\n",
       "    </tr>\n",
       "    <tr>\n",
       "      <th>2</th>\n",
       "      <td>Coffee</td>\n",
       "      <td>0</td>\n",
       "      <td>5</td>\n",
       "      <td>0.1</td>\n",
       "      <td>0</td>\n",
       "      <td>0</td>\n",
       "      <td>0%</td>\n",
       "    </tr>\n",
       "    <tr>\n",
       "      <th>3</th>\n",
       "      <td>Coffee</td>\n",
       "      <td>0</td>\n",
       "      <td>5</td>\n",
       "      <td>0.1</td>\n",
       "      <td>0</td>\n",
       "      <td>0</td>\n",
       "      <td>0%</td>\n",
       "    </tr>\n",
       "    <tr>\n",
       "      <th>4</th>\n",
       "      <td>Classic Espresso Drinks</td>\n",
       "      <td>1</td>\n",
       "      <td>70</td>\n",
       "      <td>0.1</td>\n",
       "      <td>10</td>\n",
       "      <td>9</td>\n",
       "      <td>0%</td>\n",
       "    </tr>\n",
       "    <tr>\n",
       "      <th>5</th>\n",
       "      <td>Classic Espresso Drinks</td>\n",
       "      <td>1</td>\n",
       "      <td>100</td>\n",
       "      <td>3.5</td>\n",
       "      <td>10</td>\n",
       "      <td>9</td>\n",
       "      <td>0%</td>\n",
       "    </tr>\n",
       "    <tr>\n",
       "      <th>6</th>\n",
       "      <td>Classic Espresso Drinks</td>\n",
       "      <td>1</td>\n",
       "      <td>70</td>\n",
       "      <td>2.5</td>\n",
       "      <td>6</td>\n",
       "      <td>4</td>\n",
       "      <td>8%</td>\n",
       "    </tr>\n",
       "    <tr>\n",
       "      <th>7</th>\n",
       "      <td>Classic Espresso Drinks</td>\n",
       "      <td>1</td>\n",
       "      <td>100</td>\n",
       "      <td>0.2</td>\n",
       "      <td>15</td>\n",
       "      <td>14</td>\n",
       "      <td>0%</td>\n",
       "    </tr>\n",
       "    <tr>\n",
       "      <th>8</th>\n",
       "      <td>Classic Espresso Drinks</td>\n",
       "      <td>1</td>\n",
       "      <td>150</td>\n",
       "      <td>6</td>\n",
       "      <td>15</td>\n",
       "      <td>14</td>\n",
       "      <td>0%</td>\n",
       "    </tr>\n",
       "    <tr>\n",
       "      <th>9</th>\n",
       "      <td>Classic Espresso Drinks</td>\n",
       "      <td>1</td>\n",
       "      <td>110</td>\n",
       "      <td>4.5</td>\n",
       "      <td>10</td>\n",
       "      <td>6</td>\n",
       "      <td>15%</td>\n",
       "    </tr>\n",
       "    <tr>\n",
       "      <th>10</th>\n",
       "      <td>Classic Espresso Drinks</td>\n",
       "      <td>1</td>\n",
       "      <td>130</td>\n",
       "      <td>0.3</td>\n",
       "      <td>19</td>\n",
       "      <td>18</td>\n",
       "      <td>0%</td>\n",
       "    </tr>\n",
       "    <tr>\n",
       "      <th>11</th>\n",
       "      <td>Classic Espresso Drinks</td>\n",
       "      <td>1</td>\n",
       "      <td>190</td>\n",
       "      <td>7</td>\n",
       "      <td>19</td>\n",
       "      <td>17</td>\n",
       "      <td>0%</td>\n",
       "    </tr>\n",
       "    <tr>\n",
       "      <th>12</th>\n",
       "      <td>Classic Espresso Drinks</td>\n",
       "      <td>1</td>\n",
       "      <td>150</td>\n",
       "      <td>5</td>\n",
       "      <td>13</td>\n",
       "      <td>8</td>\n",
       "      <td>15%</td>\n",
       "    </tr>\n",
       "    <tr>\n",
       "      <th>13</th>\n",
       "      <td>Classic Espresso Drinks</td>\n",
       "      <td>1</td>\n",
       "      <td>170</td>\n",
       "      <td>0.4</td>\n",
       "      <td>25</td>\n",
       "      <td>23</td>\n",
       "      <td>0%</td>\n",
       "    </tr>\n",
       "    <tr>\n",
       "      <th>14</th>\n",
       "      <td>Classic Espresso Drinks</td>\n",
       "      <td>1</td>\n",
       "      <td>240</td>\n",
       "      <td>9</td>\n",
       "      <td>24</td>\n",
       "      <td>22</td>\n",
       "      <td>0%</td>\n",
       "    </tr>\n",
       "  </tbody>\n",
       "</table>\n",
       "</div>"
      ],
      "text/plain": [
       "          Beverage_category  Beverage  Calories  Total Fat (g)  \\\n",
       "0                    Coffee         0         3            0.1   \n",
       "1                    Coffee         0         4            0.1   \n",
       "2                    Coffee         0         5            0.1   \n",
       "3                    Coffee         0         5            0.1   \n",
       "4   Classic Espresso Drinks         1        70            0.1   \n",
       "5   Classic Espresso Drinks         1       100            3.5   \n",
       "6   Classic Espresso Drinks         1        70            2.5   \n",
       "7   Classic Espresso Drinks         1       100            0.2   \n",
       "8   Classic Espresso Drinks         1       150              6   \n",
       "9   Classic Espresso Drinks         1       110            4.5   \n",
       "10  Classic Espresso Drinks         1       130            0.3   \n",
       "11  Classic Espresso Drinks         1       190              7   \n",
       "12  Classic Espresso Drinks         1       150              5   \n",
       "13  Classic Espresso Drinks         1       170            0.4   \n",
       "14  Classic Espresso Drinks         1       240              9   \n",
       "\n",
       "    Cholesterol (mg)   Sugars (g) Iron (% DV)   \n",
       "0                  0            0           0%  \n",
       "1                  0            0           0%  \n",
       "2                  0            0           0%  \n",
       "3                  0            0           0%  \n",
       "4                 10            9           0%  \n",
       "5                 10            9           0%  \n",
       "6                  6            4           8%  \n",
       "7                 15           14           0%  \n",
       "8                 15           14           0%  \n",
       "9                 10            6          15%  \n",
       "10                19           18           0%  \n",
       "11                19           17           0%  \n",
       "12                13            8          15%  \n",
       "13                25           23           0%  \n",
       "14                24           22           0%  "
      ]
     },
     "execution_count": 69,
     "metadata": {},
     "output_type": "execute_result"
    }
   ],
   "source": [
    "df_en.head(15)"
   ]
  },
  {
   "cell_type": "markdown",
   "metadata": {
    "papermill": {
     "duration": 0.137835,
     "end_time": "2021-01-05T15:24:52.326720",
     "exception": false,
     "start_time": "2021-01-05T15:24:52.188885",
     "status": "completed"
    },
    "tags": []
   },
   "source": [
    "# Q6. Map of Correlation betweeen Different Variables"
   ]
  },
  {
   "cell_type": "code",
   "execution_count": 72,
   "metadata": {
    "execution": {
     "iopub.execute_input": "2021-01-05T15:24:52.605339Z",
     "iopub.status.busy": "2021-01-05T15:24:52.604638Z",
     "iopub.status.idle": "2021-01-05T15:24:53.167459Z",
     "shell.execute_reply": "2021-01-05T15:24:53.166301Z"
    },
    "papermill": {
     "duration": 0.703899,
     "end_time": "2021-01-05T15:24:53.167620",
     "exception": false,
     "start_time": "2021-01-05T15:24:52.463721",
     "status": "completed"
    },
    "tags": []
   },
   "outputs": [
    {
     "data": {
      "text/plain": [
       "Index(['Calories', 'Trans Fat (g) ', 'Saturated Fat (g)', ' Sodium (mg)',\n",
       "       ' Total Carbohydrates (g) ', 'Cholesterol (mg)', ' Dietary Fibre (g)',\n",
       "       ' Sugars (g)', ' Protein (g) '],\n",
       "      dtype='object')"
      ]
     },
     "execution_count": 72,
     "metadata": {},
     "output_type": "execute_result"
    },
    {
     "data": {
      "image/png": "[encoded data removed]",
      "text/plain": [
       "<Figure size 1080x576 with 2 Axes>"
      ]
     },
     "metadata": {
      "needs_background": "light"
     },
     "output_type": "display_data"
    }
   ],
   "source": [
    "#Get correlation between different variables \n",
    "# Select only numeric columns for correlation\n",
    "numeric_df = df.select_dtypes(include=[np.number])\n",
    "\n",
    "# Compute the Kendall correlation on the numeric columns\n",
    "corr = numeric_df.corr(method='kendall')\n",
    "\n",
    "# Plot the heatmap\n",
    "plt.figure(figsize=(15,8))\n",
    "sns.heatmap(corr, annot=True)\n",
    "\n",
    "# Output the columns included in the correlation\n",
    "numeric_df.columns"
   ]
  },
  {
   "cell_type": "markdown",
   "metadata": {
    "papermill": {
     "duration": 0.137876,
     "end_time": "2021-01-05T15:24:53.439705",
     "exception": false,
     "start_time": "2021-01-05T15:24:53.301829",
     "status": "completed"
    },
    "tags": []
   },
   "source": [
    "# 5. Conclusion\n",
    "Calorie Content: Higher calorie counts are strongly associated with higher levels of cholesterol and sugar.\n",
    "\n",
    "Fats Relationship: There's a significant positive correlation between trans fats and saturated fats, indicating that drinks with more of one tend to have more of the other.\n",
    "\n",
    "Carbohydrates and Sugars: As expected, there's a strong link between the total carbohydrates and sugar content in beverages.\n",
    "\n",
    "Cholesterol and Sugars: The unusually high correlation between cholesterol and sugars may indicate that drinks with added sugars also include high-cholesterol ingredients.\n",
    "\n",
    "Protein Independence: Protein content does not show a strong correlation with fats or sugars, suggesting protein-rich drinks might offer a healthier profile."
   ]
  },
  {
   "cell_type": "code",
   "execution_count": null,
   "metadata": {},
   "outputs": [],
   "source": []
  }
 ],
 "metadata": {
  "kernelspec": {
   "display_name": "Python 3 (ipykernel)",
   "language": "python",
   "name": "python3"
  },
  "language_info": {
   "codemirror_mode": {
    "name": "ipython",
    "version": 3
   },
   "file_extension": ".py",
   "mimetype": "text/x-python",
   "name": "python",
   "nbconvert_exporter": "python",
   "pygments_lexer": "ipython3",
   "version": "3.9.7"
  },
  "papermill": {
   "duration": 31.753081,
   "end_time": "2021-01-05T15:24:53.689361",
   "environment_variables": {},
   "exception": null,
   "input_path": "__notebook__.ipynb",
   "output_path": "__notebook__.ipynb",
   "parameters": {},
   "start_time": "2021-01-05T15:24:21.936280",
   "version": "2.1.0"
  }
 },
 "nbformat": 4,
 "nbformat_minor": 4
}
